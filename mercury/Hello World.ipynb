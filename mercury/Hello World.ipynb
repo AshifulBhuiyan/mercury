{
 "cells": [
  {
   "cell_type": "code",
   "execution_count": 1,
   "id": "4594c8ba",
   "metadata": {},
   "outputs": [],
   "source": [
    "import mercury as mr"
   ]
  },
  {
   "cell_type": "markdown",
   "id": "a51788c1",
   "metadata": {},
   "source": [
    "# Greetings 👋"
   ]
  },
  {
   "cell_type": "code",
   "execution_count": 2,
   "id": "94931f9f",
   "metadata": {},
   "outputs": [
    {
     "data": {
      "application/mercury+json": "{\n    \"widget\": \"Text\",\n    \"value\": \"Piotr\",\n    \"rows\": 1,\n    \"label\": \"What is your name?\",\n    \"model_id\": \"6d1323da8b284c2dadde72e089a3afd8\",\n    \"code_uid\": \"Text.0.32.13.1\"\n}",
      "application/vnd.jupyter.widget-view+json": {
       "model_id": "6d1323da8b284c2dadde72e089a3afd8",
       "version_major": 2,
       "version_minor": 0
      },
      "text/plain": [
       "mercury.Text"
      ]
     },
     "metadata": {},
     "output_type": "display_data"
    },
    {
     "data": {
      "application/mercury+json": "{\n    \"widget\": \"Text\",\n    \"value\": \"\",\n    \"rows\": 4,\n    \"label\": \"Longer text\",\n    \"model_id\": \"cecb730094a7402d9660c28373a7a278\",\n    \"code_uid\": \"Text.0.32.13.2\"\n}",
      "application/vnd.jupyter.widget-view+json": {
       "model_id": "cecb730094a7402d9660c28373a7a278",
       "version_major": 2,
       "version_minor": 0
      },
      "text/plain": [
       "mercury.Text"
      ]
     },
     "metadata": {},
     "output_type": "display_data"
    },
    {
     "data": {
      "application/mercury+json": "{\n    \"widget\": \"Slider\",\n    \"value\": 2023,\n    \"min\": 2020,\n    \"max\": 2025,\n    \"step\": 1,\n    \"label\": \"Which year is it?\",\n    \"model_id\": \"008aa6fe4c7f44cbb4d0fc986f3a8308\",\n    \"code_uid\": \"Slider.0.32.16.3\"\n}",
      "application/vnd.jupyter.widget-view+json": {
       "model_id": "008aa6fe4c7f44cbb4d0fc986f3a8308",
       "version_major": 2,
       "version_minor": 0
      },
      "text/plain": [
       "mercury.Slider"
      ]
     },
     "metadata": {},
     "output_type": "display_data"
    }
   ],
   "source": [
    "text = mr.Text(label=\"What is your name?\", value=\"Piotr\")\n",
    "text2 = mr.Text(label=\"Longer text\", rows=4)\n",
    "slider = mr.Slider(label=\"Which year is it?\", value=2023, min=2020, max=2025)"
   ]
  },
  {
   "cell_type": "code",
   "execution_count": 3,
   "id": "e65cbfb0",
   "metadata": {},
   "outputs": [
    {
     "name": "stdout",
     "output_type": "stream",
     "text": [
      "Hello Piotr in 2023 year \n"
     ]
    }
   ],
   "source": [
    "print(f\"Hello {text.value} in {slider.value} year {text2.value}\")"
   ]
  },
  {
   "cell_type": "code",
   "execution_count": null,
   "id": "1b546c83",
   "metadata": {},
   "outputs": [],
   "source": []
  },
  {
   "cell_type": "code",
   "execution_count": 4,
   "id": "f6bf73f7",
   "metadata": {},
   "outputs": [],
   "source": [
    "import time\n",
    "time.sleep(3)"
   ]
  },
  {
   "cell_type": "code",
   "execution_count": 5,
   "id": "5d0129bf",
   "metadata": {},
   "outputs": [
    {
     "name": "stdout",
     "output_type": "stream",
     "text": [
      "hoho\n"
     ]
    }
   ],
   "source": [
    "print(\"hoho\")"
   ]
  },
  {
   "cell_type": "code",
   "execution_count": 6,
   "id": "671d49b1",
   "metadata": {},
   "outputs": [
    {
     "data": {
      "application/mercury+json": "{\n    \"widget\": \"Slider\",\n    \"value\": 0,\n    \"min\": 0,\n    \"max\": 10,\n    \"step\": 1,\n    \"label\": \"222\",\n    \"model_id\": \"7dbccd3913ca4102a2bc3c5b3b3d5c82\",\n    \"code_uid\": \"Slider.0.32.16.1\"\n}",
      "application/vnd.jupyter.widget-view+json": {
       "model_id": "7dbccd3913ca4102a2bc3c5b3b3d5c82",
       "version_major": 2,
       "version_minor": 0
      },
      "text/plain": [
       "mercury.Slider"
      ]
     },
     "metadata": {},
     "output_type": "display_data"
    }
   ],
   "source": [
    "\n",
    "slider2 = mr.Slider(label=\"much better\")"
   ]
  },
  {
   "cell_type": "code",
   "execution_count": null,
   "id": "4ee9a6bd",
   "metadata": {},
   "outputs": [],
   "source": []
  }
 ],
 "metadata": {
  "kernelspec": {
   "display_name": "menv",
   "language": "python",
   "name": "menv"
  },
  "language_info": {
   "codemirror_mode": {
    "name": "ipython",
    "version": 3
   },
   "file_extension": ".py",
   "mimetype": "text/x-python",
   "name": "python",
   "nbconvert_exporter": "python",
   "pygments_lexer": "ipython3",
   "version": "3.8.10"
  }
 },
 "nbformat": 4,
 "nbformat_minor": 5
}
