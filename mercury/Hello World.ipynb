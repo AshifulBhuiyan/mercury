{
 "cells": [
  {
   "cell_type": "code",
   "execution_count": 1,
   "id": "4594c8ba",
   "metadata": {},
   "outputs": [],
   "source": [
    "import mercury as mr"
   ]
  },
  {
   "cell_type": "markdown",
   "id": "a51788c1",
   "metadata": {},
   "source": [
    "# Greetings 👋"
   ]
  },
  {
   "cell_type": "code",
   "execution_count": 5,
   "id": "94931f9f",
   "metadata": {},
   "outputs": [
    {
     "data": {
      "application/mercury+json": "{\n    \"widget\": \"Text\",\n    \"value\": \"Piotr\",\n    \"rows\": 1,\n    \"label\": \"What is your name?\",\n    \"model_id\": \"dd7c7ab2a2aa4252abc6ea0c2939dec9\",\n    \"code_uid\": \"Text.0.32.13.1\"\n}",
      "application/vnd.jupyter.widget-view+json": {
       "model_id": "dd7c7ab2a2aa4252abc6ea0c2939dec9",
       "version_major": 2,
       "version_minor": 0
      },
      "text/plain": [
       "mercury.Text"
      ]
     },
     "metadata": {},
     "output_type": "display_data"
    },
    {
     "data": {
      "application/mercury+json": "{\n    \"widget\": \"Slider\",\n    \"value\": 2023,\n    \"min\": 2020,\n    \"max\": 2025,\n    \"step\": 1,\n    \"label\": \"Which year is it?\",\n    \"model_id\": \"965107032f094aeda3e782f45f3d1c60\",\n    \"code_uid\": \"Slider.0.32.16.2\"\n}",
      "application/vnd.jupyter.widget-view+json": {
       "model_id": "965107032f094aeda3e782f45f3d1c60",
       "version_major": 2,
       "version_minor": 0
      },
      "text/plain": [
       "mercury.Slider"
      ]
     },
     "metadata": {},
     "output_type": "display_data"
    }
   ],
   "source": [
    "text = mr.Text(label=\"What is your name?\", value=\"Piotr\")\n",
    "slider = mr.Slider(label=\"Which year is it?\", value=2023, min=2020, max=2025)"
   ]
  },
  {
   "cell_type": "code",
   "execution_count": 4,
   "id": "e65cbfb0",
   "metadata": {},
   "outputs": [
    {
     "name": "stdout",
     "output_type": "stream",
     "text": [
      "Hello Piotr in 2023 year\n"
     ]
    }
   ],
   "source": [
    "print(f\"Hello {text.value} in {slider.value} year\")"
   ]
  },
  {
   "cell_type": "code",
   "execution_count": null,
   "id": "1b546c83",
   "metadata": {},
   "outputs": [],
   "source": []
  }
 ],
 "metadata": {
  "kernelspec": {
   "display_name": "menv",
   "language": "python",
   "name": "menv"
  },
  "language_info": {
   "codemirror_mode": {
    "name": "ipython",
    "version": 3
   },
   "file_extension": ".py",
   "mimetype": "text/x-python",
   "name": "python",
   "nbconvert_exporter": "python",
   "pygments_lexer": "ipython3",
   "version": "3.8.0"
  }
 },
 "nbformat": 4,
 "nbformat_minor": 5
}
