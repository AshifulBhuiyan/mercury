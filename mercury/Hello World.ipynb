{
 "cells": [
  {
   "cell_type": "code",
   "execution_count": 1,
   "id": "4594c8ba",
   "metadata": {},
   "outputs": [],
   "source": [
    "import mercury as mr"
   ]
  },
  {
   "cell_type": "code",
   "execution_count": 3,
   "id": "164adeac",
   "metadata": {},
   "outputs": [
    {
     "data": {
      "application/mercury+json": "{\n    \"widget\": \"App\",\n    \"title\": \"\",\n    \"description\": \"\",\n    \"show_code\": true,\n    \"show_prompt\": false,\n    \"share\": \"public\",\n    \"output\": \"app\",\n    \"slug\": \"\",\n    \"schedule\": \"\",\n    \"notify\": \"{}\",\n    \"continuous_update\": true,\n    \"static_notebook\": false,\n    \"model_id\": \"mercury-app\",\n    \"code_uid\": \"App.0.32.23.1\"\n}",
      "text/html": [
       "<h3>Mercury Application</h3><small>This output won't appear in the web app.</small>"
      ],
      "text/plain": [
       "mercury.App"
      ]
     },
     "metadata": {},
     "output_type": "display_data"
    }
   ],
   "source": [
    "app=mr.App(show_code=True)"
   ]
  },
  {
   "cell_type": "markdown",
   "id": "a51788c1",
   "metadata": {},
   "source": [
    "# Greetings 👋"
   ]
  },
  {
   "cell_type": "code",
   "execution_count": 2,
   "id": "94931f9f",
   "metadata": {},
   "outputs": [
    {
     "data": {
      "application/mercury+json": "{\n    \"widget\": \"Text\",\n    \"value\": \"Piotr\",\n    \"rows\": 1,\n    \"label\": \"What is your name?\",\n    \"model_id\": \"a372e8735c144275b3fbce7e6a86509c\",\n    \"code_uid\": \"Text.0.32.13.1\"\n}",
      "application/vnd.jupyter.widget-view+json": {
       "model_id": "a372e8735c144275b3fbce7e6a86509c",
       "version_major": 2,
       "version_minor": 0
      },
      "text/plain": [
       "mercury.Text"
      ]
     },
     "metadata": {},
     "output_type": "display_data"
    },
    {
     "data": {
      "application/mercury+json": "{\n    \"widget\": \"Slider\",\n    \"value\": 2023,\n    \"min\": 2020,\n    \"max\": 2025,\n    \"step\": 1,\n    \"label\": \"Which year is it?\",\n    \"model_id\": \"98c7e151fc494f4cab81886cb5f718f7\",\n    \"code_uid\": \"Slider.0.32.16.2\"\n}",
      "application/vnd.jupyter.widget-view+json": {
       "model_id": "98c7e151fc494f4cab81886cb5f718f7",
       "version_major": 2,
       "version_minor": 0
      },
      "text/plain": [
       "mercury.Slider"
      ]
     },
     "metadata": {},
     "output_type": "display_data"
    }
   ],
   "source": [
    "text = mr.Text(label=\"What is your name?\", value=\"Piotr\")\n",
    "slider = mr.Slider(label=\"Which year is it?\", value=2023, min=2020, max=2025)"
   ]
  },
  {
   "cell_type": "code",
   "execution_count": 3,
   "id": "e65cbfb0",
   "metadata": {},
   "outputs": [
    {
     "name": "stdout",
     "output_type": "stream",
     "text": [
      "Hello Piotr in 2023 year \n"
     ]
    }
   ],
   "source": [
    "print(f\"Hello {text.value} in {slider.value} year\")"
   ]
  },
  {
   "cell_type": "code",
   "execution_count": null,
   "id": "1b546c83",
   "metadata": {},
   "outputs": [],
   "source": []
  },
  {
   "cell_type": "code",
   "execution_count": 5,
   "id": "5d0129bf",
   "metadata": {},
   "outputs": [
    {
     "name": "stdout",
     "output_type": "stream",
     "text": [
      "hoho\n"
     ]
    }
   ],
   "source": [
    "print(\"hoho 2\")"
   ]
  },
  {
   "cell_type": "code",
   "execution_count": null,
   "id": "4ee9a6bd",
   "metadata": {},
   "outputs": [],
   "source": []
  }
 ],
 "metadata": {
  "kernelspec": {
   "display_name": "menv",
   "language": "python",
   "name": "menv"
  },
  "language_info": {
   "codemirror_mode": {
    "name": "ipython",
    "version": 3
   },
   "file_extension": ".py",
   "mimetype": "text/x-python",
   "name": "python",
   "nbconvert_exporter": "python",
   "pygments_lexer": "ipython3",
   "version": "3.8.10"
  }
 },
 "nbformat": 4,
 "nbformat_minor": 5
}
