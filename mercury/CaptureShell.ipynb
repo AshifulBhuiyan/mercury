{
 "cells": [
  {
   "cell_type": "markdown",
   "id": "e0cb56fc",
   "metadata": {},
   "source": [
    "# bug or feature?"
   ]
  },
  {
   "cell_type": "code",
   "execution_count": 1,
   "id": "48c90300",
   "metadata": {},
   "outputs": [],
   "source": [
    "import threading\n",
    "from execnb.shell import CaptureShell"
   ]
  },
  {
   "cell_type": "code",
   "execution_count": 2,
   "id": "9495266a",
   "metadata": {},
   "outputs": [],
   "source": [
    "def worker():\n",
    "    s = CaptureShell()\n",
    "    response = s.run(\"\"\"\n",
    "import time\n",
    "\n",
    "for i in range(10):\n",
    "    print(i)\n",
    "    time.sleep(1)\n",
    "\"\"\")\n",
    "    print(response)"
   ]
  },
  {
   "cell_type": "code",
   "execution_count": 3,
   "id": "d527de8c",
   "metadata": {},
   "outputs": [
    {
     "name": "stdout",
     "output_type": "stream",
     "text": [
      "[{'name': 'stdout', 'output_type': 'stream', 'text': ['0\\n', 'where am I?\\n', '1\\n', '2\\n', '3\\n', '4\\n', '5\\n', '6\\n', '7\\n', '8\\n', '9\\n']}]\n"
     ]
    }
   ],
   "source": [
    "\n",
    "threading.Thread(target=worker, daemon=True).start()\n",
    "\n"
   ]
  },
  {
   "cell_type": "code",
   "execution_count": 4,
   "id": "0ab798c8",
   "metadata": {},
   "outputs": [],
   "source": [
    "print(\"where am I?\")"
   ]
  },
  {
   "cell_type": "code",
   "execution_count": null,
   "id": "da24fbf6",
   "metadata": {},
   "outputs": [],
   "source": []
  }
 ],
 "metadata": {
  "kernelspec": {
   "display_name": "menv",
   "language": "python",
   "name": "menv"
  },
  "language_info": {
   "codemirror_mode": {
    "name": "ipython",
    "version": 3
   },
   "file_extension": ".py",
   "mimetype": "text/x-python",
   "name": "python",
   "nbconvert_exporter": "python",
   "pygments_lexer": "ipython3",
   "version": "3.8.10"
  }
 },
 "nbformat": 4,
 "nbformat_minor": 5
}
