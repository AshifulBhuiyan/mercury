{
 "cells": [
  {
   "cell_type": "markdown",
   "id": "e0cb56fc",
   "metadata": {},
   "source": [
    "# bug or feature?"
   ]
  },
  {
   "cell_type": "code",
   "execution_count": 1,
   "id": "48c90300",
   "metadata": {},
   "outputs": [],
   "source": [
    "import threading\n",
    "from execnb.shell import CaptureShell\n",
    "\n",
    "import logging\n",
    "logging.basicConfig(\n",
    "    #filename=\"nbworker.log\", filemode=\"w\",\n",
    "    format=\"%(asctime)s %(message)s\",\n",
    "    level=0,\n",
    ")\n",
    "log = logging.getLogger(__name__)"
   ]
  },
  {
   "cell_type": "code",
   "execution_count": 2,
   "id": "9495266a",
   "metadata": {},
   "outputs": [],
   "source": [
    "def worker():\n",
    "    s = CaptureShell()\n",
    "    response = s.run(\"\"\"\n",
    "import time\n",
    "\n",
    "for i in range(10):\n",
    "    print(i)\n",
    "    time.sleep(1)\n",
    "\"\"\")\n",
    "    print(response)\n",
    "    "
   ]
  },
  {
   "cell_type": "code",
   "execution_count": 3,
   "id": "d527de8c",
   "metadata": {},
   "outputs": [
    {
     "name": "stderr",
     "output_type": "stream",
     "text": [
      "2022-12-15 16:26:24,771 matplotlib data path: /home/piotr/sandbox/mercury/mercury/menv/lib/python3.8/site-packages/matplotlib/mpl-data\n",
      "2022-12-15 16:26:24,774 CONFIGDIR=/home/piotr/.config/matplotlib\n",
      "2022-12-15 16:26:24,776 interactive is False\n",
      "2022-12-15 16:26:24,776 platform is linux\n",
      "2022-12-15 16:26:24,787 CACHEDIR=/home/piotr/.cache/matplotlib\n",
      "2022-12-15 16:26:24,792 Using fontManager instance from /home/piotr/.cache/matplotlib/fontlist-v330.json\n",
      "2022-12-15 16:26:24,972 Loaded backend module://matplotlib_inline.backend_inline version unknown.\n",
      "2022-12-15 16:26:24,975 Loaded backend module://matplotlib_inline.backend_inline version unknown.\n",
      "2022-12-15 16:26:26,389 err\n"
     ]
    },
    {
     "name": "stdout",
     "output_type": "stream",
     "text": [
      "[{'name': 'stdout', 'output_type': 'stream', 'text': ['0\\n', 'where am I?\\n', '1\\n', '2\\n', '3\\n', '4\\n', '5\\n', '6\\n', '7\\n', '8\\n', '9\\n']}]\n"
     ]
    }
   ],
   "source": [
    "\n",
    "threading.Thread(target=worker, daemon=True).start()\n",
    "\n"
   ]
  },
  {
   "cell_type": "code",
   "execution_count": 4,
   "id": "0ab798c8",
   "metadata": {},
   "outputs": [],
   "source": [
    "print(\"where am I?\")"
   ]
  },
  {
   "cell_type": "code",
   "execution_count": 5,
   "id": "da24fbf6",
   "metadata": {},
   "outputs": [],
   "source": [
    "log.error(\"err\")"
   ]
  },
  {
   "cell_type": "code",
   "execution_count": 6,
   "id": "b0292d17",
   "metadata": {},
   "outputs": [
    {
     "data": {
      "text/plain": [
       "'__main__'"
      ]
     },
     "execution_count": 6,
     "metadata": {},
     "output_type": "execute_result"
    }
   ],
   "source": [
    "__name__"
   ]
  },
  {
   "cell_type": "code",
   "execution_count": null,
   "id": "5877299e",
   "metadata": {},
   "outputs": [],
   "source": []
  }
 ],
 "metadata": {
  "kernelspec": {
   "display_name": "menv",
   "language": "python",
   "name": "menv"
  },
  "language_info": {
   "codemirror_mode": {
    "name": "ipython",
    "version": 3
   },
   "file_extension": ".py",
   "mimetype": "text/x-python",
   "name": "python",
   "nbconvert_exporter": "python",
   "pygments_lexer": "ipython3",
   "version": "3.8.10"
  }
 },
 "nbformat": 4,
 "nbformat_minor": 5
}
