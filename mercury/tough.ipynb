{
 "cells": [
  {
   "cell_type": "code",
   "execution_count": 1,
   "id": "3faa306d",
   "metadata": {
    "hideCode": false,
    "hidePrompt": false
   },
   "outputs": [],
   "source": [
    "import mercury as mr\n",
    "import inspect"
   ]
  },
  {
   "cell_type": "code",
   "execution_count": 2,
   "id": "f74d0790",
   "metadata": {
    "hideCode": false,
    "hidePrompt": false
   },
   "outputs": [],
   "source": [
    "def print_frame():\n",
    "    fullstack = inspect.stack()\n",
    "    uid = \"\"\n",
    "    for callerframerecord in fullstack[:5]:\n",
    "    #callerframerecord = inspect.stack()[1]    # 0 represents this line\n",
    "                                                # 1 represents line at caller\n",
    "        frame = callerframerecord[0]\n",
    "        info = inspect.getframeinfo(frame)\n",
    "        #print(info.filename)                      # __FILE__     -> Test.py\n",
    "        #print(info.function)                      # __FUNCTION__ -> Main\n",
    "        #print(info.lineno)                        # __LINE__     -> 13\n",
    "        #print(info.code_context)\n",
    "        uid += f\"{info.lineno}\"\n",
    "    print(uid)"
   ]
  },
  {
   "cell_type": "code",
   "execution_count": null,
   "id": "8792f2bb",
   "metadata": {
    "hideCode": false,
    "hidePrompt": false
   },
   "outputs": [],
   "source": []
  },
  {
   "cell_type": "code",
   "execution_count": 6,
   "id": "8ad0e095",
   "metadata": {
    "hideCode": false,
    "hidePrompt": false
   },
   "outputs": [],
   "source": [
    "class WidgetManager:\n",
    "    w = 0\n",
    "    \n",
    "    @staticmethod\n",
    "    def increase():\n",
    "        WidgetManager.w += 1\n",
    "    @staticmethod\n",
    "    def code_uid():\n",
    "        uid = \"\"\n",
    "        for callerframerecord in inspect.stack()[:5]:\n",
    "            frame = callerframerecord[0]\n",
    "            info = inspect.getframeinfo(frame)\n",
    "            uid += f\"{info.lineno}.\"\n",
    "        return uid[:-1]"
   ]
  },
  {
   "cell_type": "code",
   "execution_count": 8,
   "id": "2b172b98",
   "metadata": {},
   "outputs": [
    {
     "data": {
      "text/plain": [
       "'12.3.3397.3337.3134'"
      ]
     },
     "execution_count": 8,
     "metadata": {},
     "output_type": "execute_result"
    }
   ],
   "source": [
    "WidgetManager.code_uid()\n",
    "WidgetManager.code_uid()\n",
    "WidgetManager.code_uid()"
   ]
  },
  {
   "cell_type": "code",
   "execution_count": 11,
   "id": "68918c97",
   "metadata": {},
   "outputs": [],
   "source": [
    "def foo():\n",
    "    print(WidgetManager.code_uid())\n",
    "    "
   ]
  },
  {
   "cell_type": "code",
   "execution_count": 12,
   "id": "9c642b56",
   "metadata": {
    "hideCode": false,
    "hidePrompt": false
   },
   "outputs": [
    {
     "name": "stdout",
     "output_type": "stream",
     "text": [
      "12.2.1.3397.3337\n",
      "12.2.2.3397.3337\n"
     ]
    }
   ],
   "source": [
    "foo()\n",
    "foo()"
   ]
  },
  {
   "cell_type": "code",
   "execution_count": null,
   "id": "978caba7",
   "metadata": {},
   "outputs": [],
   "source": []
  },
  {
   "cell_type": "code",
   "execution_count": 78,
   "id": "415ef90e",
   "metadata": {
    "hideCode": false,
    "hidePrompt": false
   },
   "outputs": [],
   "source": [
    "WidgetManager.increase()"
   ]
  },
  {
   "cell_type": "code",
   "execution_count": 79,
   "id": "e0fc1352",
   "metadata": {
    "hideCode": false,
    "hidePrompt": false
   },
   "outputs": [
    {
     "data": {
      "text/plain": [
       "2"
      ]
     },
     "execution_count": 79,
     "metadata": {},
     "output_type": "execute_result"
    }
   ],
   "source": [
    "WidgetManager.w"
   ]
  },
  {
   "cell_type": "code",
   "execution_count": 74,
   "id": "48f877b2",
   "metadata": {
    "hideCode": false,
    "hidePrompt": false
   },
   "outputs": [
    {
     "name": "stdout",
     "output_type": "stream",
     "text": [
      "82339733373134\n",
      "82339733373134\n"
     ]
    }
   ],
   "source": [
    "for i in range(2):\n",
    "    print_frame()"
   ]
  },
  {
   "cell_type": "code",
   "execution_count": 71,
   "id": "d5016b51",
   "metadata": {
    "hideCode": false,
    "hidePrompt": false
   },
   "outputs": [],
   "source": [
    "a= []"
   ]
  },
  {
   "cell_type": "code",
   "execution_count": 72,
   "id": "d1a6c193",
   "metadata": {
    "hideCode": false,
    "hidePrompt": false
   },
   "outputs": [
    {
     "data": {
      "text/plain": [
       "[]"
      ]
     },
     "execution_count": 72,
     "metadata": {},
     "output_type": "execute_result"
    }
   ],
   "source": [
    "a[:4]"
   ]
  },
  {
   "cell_type": "code",
   "execution_count": 62,
   "id": "24e1cd53",
   "metadata": {
    "hideCode": false,
    "hidePrompt": false
   },
   "outputs": [],
   "source": [
    "fullstack = inspect.stack()\n",
    "callerframerecord = inspect.stack()[1]\n",
    "frame = callerframerecord[0]\n",
    "info = inspect.getframeinfo(frame)"
   ]
  },
  {
   "cell_type": "code",
   "execution_count": 60,
   "id": "9700c872",
   "metadata": {
    "hideCode": false,
    "hidePrompt": false
   },
   "outputs": [
    {
     "data": {
      "text/plain": [
       "['        return outflag\\n']"
      ]
     },
     "execution_count": 60,
     "metadata": {},
     "output_type": "execute_result"
    }
   ],
   "source": [
    "info.code_context"
   ]
  },
  {
   "cell_type": "code",
   "execution_count": null,
   "id": "3493aeb7",
   "metadata": {
    "hideCode": false,
    "hidePrompt": false
   },
   "outputs": [],
   "source": []
  },
  {
   "cell_type": "code",
   "execution_count": 3,
   "id": "77d25a14",
   "metadata": {
    "hideCode": false,
    "hidePrompt": false
   },
   "outputs": [
    {
     "name": "stdout",
     "output_type": "stream",
     "text": [
      "81339733373134129293528805333536483534464578118445631996779761685192\n",
      "82339733373134129293528805333536483534464578118445631996779761685192\n"
     ]
    }
   ],
   "source": [
    "print_frame()\n",
    "print_frame()"
   ]
  },
  {
   "cell_type": "code",
   "execution_count": 4,
   "id": "e40af271",
   "metadata": {
    "hideCode": false,
    "hidePrompt": false
   },
   "outputs": [
    {
     "name": "stdout",
     "output_type": "stream",
     "text": [
      "81339733373134129293528805333536483534464578118445631996779761685192\n"
     ]
    }
   ],
   "source": [
    "print_frame()"
   ]
  },
  {
   "cell_type": "code",
   "execution_count": 5,
   "id": "ad162f64",
   "metadata": {
    "hideCode": false,
    "hidePrompt": false
   },
   "outputs": [],
   "source": [
    "def foo():\n",
    "    print_frame()"
   ]
  },
  {
   "cell_type": "code",
   "execution_count": 6,
   "id": "c91ec254",
   "metadata": {
    "hideCode": false,
    "hidePrompt": false
   },
   "outputs": [
    {
     "name": "stdout",
     "output_type": "stream",
     "text": [
      "821339733373134129293528805333536483534464578118445631996779761685192\n"
     ]
    }
   ],
   "source": [
    "foo()"
   ]
  },
  {
   "cell_type": "code",
   "execution_count": 7,
   "id": "cbd05424",
   "metadata": {
    "hideCode": false,
    "hidePrompt": false
   },
   "outputs": [],
   "source": [
    "def bar():\n",
    "    foo()"
   ]
  },
  {
   "cell_type": "code",
   "execution_count": 8,
   "id": "9b589707",
   "metadata": {
    "hideCode": false,
    "hidePrompt": false
   },
   "outputs": [
    {
     "name": "stdout",
     "output_type": "stream",
     "text": [
      "8221339733373134129293528805333536483534464578118445631996779761685192\n"
     ]
    }
   ],
   "source": [
    "bar()"
   ]
  },
  {
   "cell_type": "code",
   "execution_count": null,
   "id": "ba9fa09a",
   "metadata": {
    "hideCode": false,
    "hidePrompt": false
   },
   "outputs": [],
   "source": []
  },
  {
   "cell_type": "code",
   "execution_count": null,
   "id": "4ebca5cd",
   "metadata": {
    "hideCode": false,
    "hidePrompt": false
   },
   "outputs": [],
   "source": []
  },
  {
   "cell_type": "code",
   "execution_count": null,
   "id": "12de1b8f",
   "metadata": {
    "hideCode": false,
    "hidePrompt": false
   },
   "outputs": [],
   "source": []
  },
  {
   "cell_type": "code",
   "execution_count": 9,
   "id": "306ab231",
   "metadata": {
    "hideCode": false,
    "hidePrompt": false
   },
   "outputs": [
    {
     "data": {
      "application/mercury+json": "{\n    \"widget\": \"Slider\",\n    \"value\": 0,\n    \"min\": 0,\n    \"max\": 10,\n    \"step\": 1,\n    \"label\": \"Samples number\",\n    \"model_id\": \"0d714a01380b41db9c8f54ae064a22d3\"\n}",
      "application/vnd.jupyter.widget-view+json": {
       "model_id": "0d714a01380b41db9c8f54ae064a22d3",
       "version_major": 2,
       "version_minor": 0
      },
      "text/plain": [
       "mercury.Slider"
      ]
     },
     "metadata": {},
     "output_type": "display_data"
    }
   ],
   "source": [
    "slider = mr.Slider(label=\"Samples number\")"
   ]
  },
  {
   "cell_type": "code",
   "execution_count": 10,
   "id": "acf616e0",
   "metadata": {
    "hideCode": false,
    "hidePrompt": false
   },
   "outputs": [],
   "source": [
    "if slider.value > 3:\n",
    "    checkbox = mr.Checkbox(label=\"Yes or no\")"
   ]
  },
  {
   "cell_type": "code",
   "execution_count": 11,
   "id": "badb269b",
   "metadata": {
    "hideCode": false,
    "hidePrompt": false
   },
   "outputs": [],
   "source": [
    "samples = [f\"sample {i}\" for i in range(slider.value)]"
   ]
  },
  {
   "cell_type": "code",
   "execution_count": 12,
   "id": "a3f3d505",
   "metadata": {
    "hideCode": false,
    "hidePrompt": false
   },
   "outputs": [
    {
     "data": {
      "application/mercury+json": "{\n    \"widget\": \"MultiSelect\",\n    \"value\": [],\n    \"choices\": [],\n    \"label\": \"\",\n    \"model_id\": \"8b0d6b0828e44969ac4a8e265551b2fd\"\n}",
      "application/vnd.jupyter.widget-view+json": {
       "model_id": "8b0d6b0828e44969ac4a8e265551b2fd",
       "version_major": 2,
       "version_minor": 0
      },
      "text/plain": [
       "mercury.MultiSelect"
      ]
     },
     "metadata": {},
     "output_type": "display_data"
    }
   ],
   "source": [
    "select = mr.MultiSelect(value=[], choices=samples)"
   ]
  },
  {
   "cell_type": "code",
   "execution_count": 13,
   "id": "ae6879b6",
   "metadata": {
    "hideCode": false,
    "hidePrompt": false
   },
   "outputs": [],
   "source": [
    "def foo(a = 1):\n",
    "    print(a)"
   ]
  },
  {
   "cell_type": "code",
   "execution_count": 14,
   "id": "1112dccb",
   "metadata": {
    "hideCode": false,
    "hidePrompt": false
   },
   "outputs": [
    {
     "name": "stdout",
     "output_type": "stream",
     "text": [
      "2\n"
     ]
    }
   ],
   "source": [
    "select.value\n",
    "foo(inspect.currentframe().f_lineno)"
   ]
  },
  {
   "cell_type": "code",
   "execution_count": 15,
   "id": "959ada02",
   "metadata": {
    "hideCode": false,
    "hidePrompt": false
   },
   "outputs": [
    {
     "name": "stdout",
     "output_type": "stream",
     "text": [
      "/home/piotr/sandbox/mercury/mercury/menv/lib/python3.8/site-packages/IPython/core/interactiveshell.py\n",
      "run_code\n",
      "3397\n",
      "0\n"
     ]
    }
   ],
   "source": [
    "def PrintFrame():\n",
    "    callerframerecord = inspect.stack()[3]    # 0 represents this line\n",
    "                                            # 1 represents line at caller\n",
    "    frame = callerframerecord[0]\n",
    "    info = inspect.getframeinfo(frame)\n",
    "    print(info.filename)                      # __FILE__     -> Test.py\n",
    "    print(info.function)                      # __FUNCTION__ -> Main\n",
    "    print(info.lineno)                        # __LINE__     -> 13\n",
    "    print(info.index)\n",
    "\n",
    "def Main():\n",
    "    PrintFrame()                              # for this line\n",
    "\n",
    "Main()"
   ]
  },
  {
   "cell_type": "code",
   "execution_count": null,
   "id": "bdbf1a4c",
   "metadata": {
    "hideCode": false,
    "hidePrompt": false
   },
   "outputs": [],
   "source": []
  },
  {
   "cell_type": "code",
   "execution_count": 44,
   "id": "a7733944",
   "metadata": {
    "hideCode": false,
    "hidePrompt": false
   },
   "outputs": [],
   "source": [
    "class StopExecution(Exception):\n",
    "    def _render_traceback_(self):\n",
    "        return []\n",
    "\n",
    "#raise StopExecution"
   ]
  },
  {
   "cell_type": "code",
   "execution_count": 45,
   "id": "cf4c8477",
   "metadata": {
    "hideCode": false,
    "hidePrompt": false
   },
   "outputs": [
    {
     "ename": "StopExecution",
     "evalue": "",
     "output_type": "error",
     "traceback": []
    }
   ],
   "source": [
    "raise StopExecution()"
   ]
  },
  {
   "cell_type": "code",
   "execution_count": 46,
   "id": "34bcd25b",
   "metadata": {
    "hideCode": false,
    "hidePrompt": false
   },
   "outputs": [
    {
     "name": "stdout",
     "output_type": "stream",
     "text": [
      "1\n"
     ]
    }
   ],
   "source": [
    "print(1)"
   ]
  },
  {
   "cell_type": "code",
   "execution_count": 47,
   "id": "9761f136",
   "metadata": {
    "hideCode": false,
    "hidePrompt": false
   },
   "outputs": [],
   "source": [
    "from execnb.shell import CaptureShell"
   ]
  },
  {
   "cell_type": "code",
   "execution_count": 48,
   "id": "5c39121a",
   "metadata": {
    "hideCode": false,
    "hidePrompt": false
   },
   "outputs": [],
   "source": [
    "s = CaptureShell()"
   ]
  },
  {
   "cell_type": "code",
   "execution_count": 49,
   "id": "f6caaabd",
   "metadata": {
    "hideCode": false,
    "hidePrompt": false
   },
   "outputs": [
    {
     "data": {
      "text/plain": [
       "[]"
      ]
     },
     "execution_count": 49,
     "metadata": {},
     "output_type": "execute_result"
    }
   ],
   "source": [
    "s.run(\"\"\"\n",
    "class StopExecution(Exception):\n",
    "    def _render_traceback_(self):\n",
    "        pass\n",
    "\"\"\")"
   ]
  },
  {
   "cell_type": "code",
   "execution_count": 50,
   "id": "3a361da9",
   "metadata": {
    "hideCode": false,
    "hidePrompt": false
   },
   "outputs": [
    {
     "data": {
      "text/plain": [
       "[{'ename': \"<class '__main__.StopExecution'>\",\n",
       "  'evalue': '',\n",
       "  'output_type': 'error',\n",
       "  'traceback': None},\n",
       " {'ename': \"<class 'TypeError'>\",\n",
       "  'evalue': 'can only join an iterable',\n",
       "  'output_type': 'error',\n",
       "  'traceback': ['\\x1b[0;31m---------------------------------------------------------------------------\\x1b[0m',\n",
       "   '\\x1b[0;31mStopExecution\\x1b[0m                             Traceback (most recent call last)',\n",
       "   '    \\x1b[0;31m[... skipping hidden 1 frame]\\x1b[0m\\n',\n",
       "   'Input \\x1b[0;32mIn [1]\\x1b[0m, in \\x1b[0;36m<cell line: 1>\\x1b[0;34m()\\x1b[0m\\n\\x1b[0;32m----> 1\\x1b[0m \\x1b[38;5;28;01mraise\\x1b[39;00m StopExecution()\\n',\n",
       "   '\\x1b[0;31mStopExecution\\x1b[0m: ',\n",
       "   '\\nDuring handling of the above exception, another exception occurred:\\n',\n",
       "   '\\x1b[0;31mTypeError\\x1b[0m                                 Traceback (most recent call last)',\n",
       "   '    \\x1b[0;31m[... skipping hidden 1 frame]\\x1b[0m\\n',\n",
       "   'File \\x1b[0;32m~/sandbox/mercury/mercury/menv/lib/python3.8/site-packages/IPython/core/interactiveshell.py:2003\\x1b[0m, in \\x1b[0;36mInteractiveShell.showtraceback\\x1b[0;34m(self, exc_tuple, filename, tb_offset, exception_only, running_compiled_code)\\x1b[0m\\n\\x1b[1;32m   2000\\x1b[0m     traceback\\x1b[38;5;241m.\\x1b[39mprint_exc()\\n\\x1b[1;32m   2001\\x1b[0m     \\x1b[38;5;28;01mreturn\\x1b[39;00m \\x1b[38;5;28;01mNone\\x1b[39;00m\\n\\x1b[0;32m-> 2003\\x1b[0m \\x1b[38;5;28;43mself\\x1b[39;49m\\x1b[38;5;241;43m.\\x1b[39;49m\\x1b[43m_showtraceback\\x1b[49m\\x1b[43m(\\x1b[49m\\x1b[43metype\\x1b[49m\\x1b[43m,\\x1b[49m\\x1b[43m \\x1b[49m\\x1b[43mvalue\\x1b[49m\\x1b[43m,\\x1b[49m\\x1b[43m \\x1b[49m\\x1b[43mstb\\x1b[49m\\x1b[43m)\\x1b[49m\\n\\x1b[1;32m   2004\\x1b[0m \\x1b[38;5;28;01mif\\x1b[39;00m \\x1b[38;5;28mself\\x1b[39m\\x1b[38;5;241m.\\x1b[39mcall_pdb:\\n\\x1b[1;32m   2005\\x1b[0m     \\x1b[38;5;66;03m# drop into debugger\\x1b[39;00m\\n\\x1b[1;32m   2006\\x1b[0m     \\x1b[38;5;28mself\\x1b[39m\\x1b[38;5;241m.\\x1b[39mdebugger(force\\x1b[38;5;241m=\\x1b[39m\\x1b[38;5;28;01mTrue\\x1b[39;00m)\\n',\n",
       "   \"File \\x1b[0;32m~/sandbox/mercury/mercury/menv/lib/python3.8/site-packages/execnb/shell.py:103\\x1b[0m, in \\x1b[0;36mCaptureShell._showtraceback\\x1b[0;34m(self, etype, evalue, stb)\\x1b[0m\\n\\x1b[1;32m    101\\x1b[0m \\x1b[38;5;28;01mdef\\x1b[39;00m \\x1b[38;5;21m_showtraceback\\x1b[39m(\\x1b[38;5;28mself\\x1b[39m, etype, evalue, stb: \\x1b[38;5;28mstr\\x1b[39m):\\n\\x1b[1;32m    102\\x1b[0m     \\x1b[38;5;28mself\\x1b[39m\\x1b[38;5;241m.\\x1b[39mout\\x1b[38;5;241m.\\x1b[39mappend(_out_exc(etype, evalue, stb))\\n\\x1b[0;32m--> 103\\x1b[0m     \\x1b[38;5;28mself\\x1b[39m\\x1b[38;5;241m.\\x1b[39mexc \\x1b[38;5;241m=\\x1b[39m (etype, evalue, \\x1b[38;5;124;43m'\\x1b[39;49m\\x1b[38;5;130;43;01m\\\\n\\x1b[39;49;00m\\x1b[38;5;124;43m'\\x1b[39;49m\\x1b[38;5;241;43m.\\x1b[39;49m\\x1b[43mjoin\\x1b[49m\\x1b[43m(\\x1b[49m\\x1b[43mstb\\x1b[49m\\x1b[43m)\\x1b[49m)\\n\",\n",
       "   '\\x1b[0;31mTypeError\\x1b[0m: can only join an iterable']}]"
      ]
     },
     "execution_count": 50,
     "metadata": {},
     "output_type": "execute_result"
    }
   ],
   "source": [
    "s.run(\"\"\"\n",
    "raise StopExecution()\n",
    "\"\"\")"
   ]
  },
  {
   "cell_type": "code",
   "execution_count": null,
   "id": "55e797b4",
   "metadata": {
    "hideCode": false,
    "hidePrompt": false
   },
   "outputs": [],
   "source": []
  },
  {
   "cell_type": "code",
   "execution_count": null,
   "id": "45ffdf8d",
   "metadata": {
    "hideCode": false,
    "hidePrompt": false
   },
   "outputs": [],
   "source": []
  },
  {
   "cell_type": "code",
   "execution_count": null,
   "id": "3f41dc17",
   "metadata": {
    "hideCode": false,
    "hidePrompt": false
   },
   "outputs": [],
   "source": []
  }
 ],
 "metadata": {
  "hide_code_all_hidden": false,
  "kernelspec": {
   "display_name": "menv",
   "language": "python",
   "name": "menv"
  },
  "language_info": {
   "codemirror_mode": {
    "name": "ipython",
    "version": 3
   },
   "file_extension": ".py",
   "mimetype": "text/x-python",
   "name": "python",
   "nbconvert_exporter": "python",
   "pygments_lexer": "ipython3",
   "version": "3.8.0"
  }
 },
 "nbformat": 4,
 "nbformat_minor": 5
}
