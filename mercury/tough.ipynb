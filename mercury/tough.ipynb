{
 "cells": [
  {
   "cell_type": "code",
   "execution_count": 1,
   "id": "3faa306d",
   "metadata": {
    "hideCode": false,
    "hidePrompt": false
   },
   "outputs": [],
   "source": [
    "import mercury as mr"
   ]
  },
  {
   "cell_type": "code",
   "execution_count": 2,
   "id": "c829fa61",
   "metadata": {},
   "outputs": [
    {
     "data": {
      "application/mercury+json": "{\n    \"widget\": \"Slider\",\n    \"value\": 0,\n    \"min\": 0,\n    \"max\": 10,\n    \"step\": 1,\n    \"label\": \"Samples number\",\n    \"model_id\": \"f487c15f60e643b9bcecfff5109050f8\",\n    \"code_uid\": \"Slider.0.32.16.1\"\n}",
      "application/vnd.jupyter.widget-view+json": {
       "model_id": "f487c15f60e643b9bcecfff5109050f8",
       "version_major": 2,
       "version_minor": 0
      },
      "text/plain": [
       "mercury.Slider"
      ]
     },
     "metadata": {},
     "output_type": "display_data"
    }
   ],
   "source": [
    "slider = mr.Slider(label=\"Samples number\")"
   ]
  },
  {
   "cell_type": "code",
   "execution_count": 3,
   "id": "f8c4fe17",
   "metadata": {},
   "outputs": [
    {
     "data": {
      "application/mercury+json": "{\n    \"widget\": \"Button\",\n    \"label\": \"yeah\",\n    \"style\": \"success\",\n    \"value\": false,\n    \"model_id\": \"dbb0dfd284954392accb16cb75d303d9\",\n    \"code_uid\": \"Button.0.32.12.1\"\n}",
      "application/vnd.jupyter.widget-view+json": {
       "model_id": "dbb0dfd284954392accb16cb75d303d9",
       "version_major": 2,
       "version_minor": 0
      },
      "text/plain": [
       "mercury.Button"
      ]
     },
     "metadata": {},
     "output_type": "display_data"
    }
   ],
   "source": [
    "b = mr.Button(\"yeah\", style=\"success\")"
   ]
  },
  {
   "cell_type": "code",
   "execution_count": null,
   "id": "4538b442",
   "metadata": {},
   "outputs": [],
   "source": []
  },
  {
   "cell_type": "code",
   "execution_count": 4,
   "id": "947a9538",
   "metadata": {},
   "outputs": [],
   "source": [
    "if b.clicked:\n",
    "    import time\n",
    "    time.sleep(4)"
   ]
  },
  {
   "cell_type": "code",
   "execution_count": null,
   "id": "306ab231",
   "metadata": {
    "hideCode": false,
    "hidePrompt": false
   },
   "outputs": [],
   "source": []
  },
  {
   "cell_type": "code",
   "execution_count": 5,
   "id": "42474f03",
   "metadata": {},
   "outputs": [
    {
     "data": {
      "application/mercury+json": "{\n    \"widget\": \"Note\",\n    \"value\": \"#### Samples 0\",\n    \"model_id\": \"Note.0.32.17.1\",\n    \"code_uid\": \"Note.0.32.17.1\"\n}",
      "text/markdown": [
       "#### Samples 0"
      ],
      "text/plain": [
       "mercury.Note"
      ]
     },
     "metadata": {},
     "output_type": "display_data"
    }
   ],
   "source": [
    "_=mr.Note(f\"#### Samples {slider.value}\")"
   ]
  },
  {
   "cell_type": "code",
   "execution_count": 6,
   "id": "83e6435d",
   "metadata": {
    "scrolled": true
   },
   "outputs": [
    {
     "data": {
      "application/mercury+json": "{\n    \"widget\": \"Text\",\n    \"value\": \"\",\n    \"rows\": 1,\n    \"label\": \"Please provide text\",\n    \"model_id\": \"3bd3bc5b358c4829afbbf02f8f611b40\",\n    \"code_uid\": \"Text.0.32.13.1\"\n}",
      "application/vnd.jupyter.widget-view+json": {
       "model_id": "3bd3bc5b358c4829afbbf02f8f611b40",
       "version_major": 2,
       "version_minor": 0
      },
      "text/plain": [
       "mercury.Text"
      ]
     },
     "metadata": {},
     "output_type": "display_data"
    }
   ],
   "source": [
    "text = mr.Text(label=\"Please provide text\")"
   ]
  },
  {
   "cell_type": "code",
   "execution_count": 7,
   "id": "9e9ba2c1",
   "metadata": {},
   "outputs": [
    {
     "data": {
      "text/plain": [
       "''"
      ]
     },
     "execution_count": 7,
     "metadata": {},
     "output_type": "execute_result"
    }
   ],
   "source": [
    "text.value"
   ]
  },
  {
   "cell_type": "code",
   "execution_count": 8,
   "id": "acf616e0",
   "metadata": {
    "hideCode": false,
    "hidePrompt": false
   },
   "outputs": [],
   "source": [
    "slider2 = None\n",
    "if slider.value > 3:\n",
    "    print(\"add new slider\")\n",
    "    slider2 = mr.Slider(label=\"Samples number 2\")\n",
    "#else:\n",
    "#    print(\"hide slider\")\n",
    "#print(\"duppa\")"
   ]
  },
  {
   "cell_type": "code",
   "execution_count": 9,
   "id": "f120ee76",
   "metadata": {},
   "outputs": [
    {
     "name": "stdout",
     "output_type": "stream",
     "text": [
      "0\n"
     ]
    }
   ],
   "source": [
    "print(slider.value)"
   ]
  },
  {
   "cell_type": "code",
   "execution_count": 10,
   "id": "fdf5d77f",
   "metadata": {},
   "outputs": [],
   "source": [
    "if slider2:\n",
    "    slider2.value"
   ]
  },
  {
   "cell_type": "code",
   "execution_count": 11,
   "id": "badb269b",
   "metadata": {
    "hideCode": false,
    "hidePrompt": false
   },
   "outputs": [],
   "source": [
    "samples = [f\"sample {i}\" for i in range(slider.value)]"
   ]
  },
  {
   "cell_type": "code",
   "execution_count": 12,
   "id": "a3f3d505",
   "metadata": {
    "hideCode": false,
    "hidePrompt": false
   },
   "outputs": [
    {
     "data": {
      "application/mercury+json": "{\n    \"widget\": \"MultiSelect\",\n    \"value\": [],\n    \"choices\": [],\n    \"label\": \"adsfasd fasdf adsf\",\n    \"model_id\": \"35b0945719e7473fa2ebf3996acf477b\",\n    \"code_uid\": \"MultiSelect.0.32.14.1\"\n}",
      "application/vnd.jupyter.widget-view+json": {
       "model_id": "35b0945719e7473fa2ebf3996acf477b",
       "version_major": 2,
       "version_minor": 0
      },
      "text/plain": [
       "mercury.MultiSelect"
      ]
     },
     "metadata": {},
     "output_type": "display_data"
    }
   ],
   "source": [
    "select = mr.MultiSelect(value=[], choices=samples, label=\"adsfasd fasdf adsf\")"
   ]
  },
  {
   "cell_type": "code",
   "execution_count": 13,
   "id": "3f41dc17",
   "metadata": {
    "hideCode": false,
    "hidePrompt": false
   },
   "outputs": [
    {
     "data": {
      "text/plain": [
       "[]"
      ]
     },
     "execution_count": 13,
     "metadata": {},
     "output_type": "execute_result"
    }
   ],
   "source": [
    "samples"
   ]
  },
  {
   "cell_type": "code",
   "execution_count": 14,
   "id": "827e32fc",
   "metadata": {},
   "outputs": [
    {
     "name": "stdout",
     "output_type": "stream",
     "text": [
      "init me please\n"
     ]
    }
   ],
   "source": [
    "print(\"init me please\")"
   ]
  },
  {
   "cell_type": "code",
   "execution_count": null,
   "id": "f7c298f0",
   "metadata": {},
   "outputs": [],
   "source": []
  },
  {
   "cell_type": "code",
   "execution_count": null,
   "id": "ab07aeec",
   "metadata": {},
   "outputs": [],
   "source": []
  }
 ],
 "metadata": {
  "hide_code_all_hidden": false,
  "kernelspec": {
   "display_name": "menv",
   "language": "python",
   "name": "menv"
  },
  "language_info": {
   "codemirror_mode": {
    "name": "ipython",
    "version": 3
   },
   "file_extension": ".py",
   "mimetype": "text/x-python",
   "name": "python",
   "nbconvert_exporter": "python",
   "pygments_lexer": "ipython3",
   "version": "3.8.10"
  }
 },
 "nbformat": 4,
 "nbformat_minor": 5
}
