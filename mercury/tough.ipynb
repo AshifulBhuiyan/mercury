{
 "cells": [
  {
   "cell_type": "code",
   "execution_count": null,
   "id": "3faa306d",
   "metadata": {
    "hideCode": false,
    "hidePrompt": false
   },
   "outputs": [],
   "source": [
    "import mercury as mr"
   ]
  },
  {
   "cell_type": "code",
   "execution_count": null,
   "id": "306ab231",
   "metadata": {
    "hideCode": false,
    "hidePrompt": false
   },
   "outputs": [],
   "source": [
    "slider = mr.Slider(label=\"Samples number\")"
   ]
  },
  {
   "cell_type": "code",
   "execution_count": null,
   "id": "83e6435d",
   "metadata": {},
   "outputs": [],
   "source": [
    "text = mr.Text(label=\"Please provide text\")"
   ]
  },
  {
   "cell_type": "code",
   "execution_count": null,
   "id": "9e9ba2c1",
   "metadata": {},
   "outputs": [],
   "source": [
    "text.value"
   ]
  },
  {
   "cell_type": "code",
   "execution_count": null,
   "id": "acf616e0",
   "metadata": {
    "hideCode": false,
    "hidePrompt": false
   },
   "outputs": [],
   "source": [
    "slider2 = None\n",
    "if slider.value > 3:\n",
    "    print(\"add new slider\")\n",
    "    slider2 = mr.Slider(label=\"Samples number 2\")\n",
    "#else:\n",
    "#    print(\"hide slider\")\n",
    "#print(\"duppa\")"
   ]
  },
  {
   "cell_type": "code",
   "execution_count": null,
   "id": "f120ee76",
   "metadata": {},
   "outputs": [],
   "source": [
    "print(slider.value)"
   ]
  },
  {
   "cell_type": "code",
   "execution_count": null,
   "id": "fdf5d77f",
   "metadata": {},
   "outputs": [],
   "source": [
    "if slider2:\n",
    "    slider2.value"
   ]
  },
  {
   "cell_type": "code",
   "execution_count": null,
   "id": "badb269b",
   "metadata": {
    "hideCode": false,
    "hidePrompt": false
   },
   "outputs": [],
   "source": [
    "samples = [f\"sample {i}\" for i in range(slider.value)]"
   ]
  },
  {
   "cell_type": "code",
   "execution_count": null,
   "id": "a3f3d505",
   "metadata": {
    "hideCode": false,
    "hidePrompt": false
   },
   "outputs": [],
   "source": [
    "select = mr.MultiSelect(value=[], choices=samples, label=\"adsfasd fasdf adsf\")"
   ]
  },
  {
   "cell_type": "code",
   "execution_count": null,
   "id": "3f41dc17",
   "metadata": {
    "hideCode": false,
    "hidePrompt": false
   },
   "outputs": [],
   "source": [
    "samples"
   ]
  },
  {
   "cell_type": "code",
   "execution_count": null,
   "id": "827e32fc",
   "metadata": {},
   "outputs": [],
   "source": [
    "print(\"init me please\")"
   ]
  },
  {
   "cell_type": "code",
   "execution_count": null,
   "id": "f7c298f0",
   "metadata": {},
   "outputs": [],
   "source": []
  },
  {
   "cell_type": "code",
   "execution_count": null,
   "id": "ab07aeec",
   "metadata": {},
   "outputs": [],
   "source": []
  }
 ],
 "metadata": {
  "hide_code_all_hidden": false,
  "kernelspec": {
   "display_name": "menv",
   "language": "python",
   "name": "menv"
  },
  "language_info": {
   "codemirror_mode": {
    "name": "ipython",
    "version": 3
   },
   "file_extension": ".py",
   "mimetype": "text/x-python",
   "name": "python",
   "nbconvert_exporter": "python",
   "pygments_lexer": "ipython3",
   "version": "3.8.0"
  }
 },
 "nbformat": 4,
 "nbformat_minor": 5
}
