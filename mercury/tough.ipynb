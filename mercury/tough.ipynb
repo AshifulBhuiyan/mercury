{
 "cells": [
  {
   "cell_type": "code",
   "execution_count": 1,
   "id": "3faa306d",
   "metadata": {},
   "outputs": [],
   "source": [
    "import mercury as mr"
   ]
  },
  {
   "cell_type": "code",
   "execution_count": null,
   "id": "f74d0790",
   "metadata": {},
   "outputs": [],
   "source": []
  },
  {
   "cell_type": "code",
   "execution_count": 2,
   "id": "306ab231",
   "metadata": {},
   "outputs": [
    {
     "data": {
      "application/mercury+json": "{\n    \"widget\": \"Slider\",\n    \"value\": 0,\n    \"min\": 0,\n    \"max\": 10,\n    \"step\": 1,\n    \"label\": \"Samples number\",\n    \"model_id\": \"6628562446634038ba28d63b08132707\"\n}",
      "application/vnd.jupyter.widget-view+json": {
       "model_id": "6628562446634038ba28d63b08132707",
       "version_major": 2,
       "version_minor": 0
      },
      "text/plain": [
       "mercury.Slider"
      ]
     },
     "metadata": {},
     "output_type": "display_data"
    }
   ],
   "source": [
    "slider = mr.Slider(label=\"Samples number\")"
   ]
  },
  {
   "cell_type": "code",
   "execution_count": 3,
   "id": "acf616e0",
   "metadata": {},
   "outputs": [],
   "source": [
    "if slider.value > 3:\n",
    "    checkbox = mr.Checkbox(label=\"Yes or no\")"
   ]
  },
  {
   "cell_type": "code",
   "execution_count": 4,
   "id": "badb269b",
   "metadata": {},
   "outputs": [],
   "source": [
    "samples = [f\"sample {i}\" for i in range(slider.value)]"
   ]
  },
  {
   "cell_type": "code",
   "execution_count": 5,
   "id": "a3f3d505",
   "metadata": {},
   "outputs": [
    {
     "data": {
      "application/mercury+json": "{\n    \"widget\": \"MultiSelect\",\n    \"value\": [],\n    \"choices\": [],\n    \"label\": \"\",\n    \"model_id\": \"c337811f0c43420781ede56bcc5be74f\"\n}",
      "application/vnd.jupyter.widget-view+json": {
       "model_id": "c337811f0c43420781ede56bcc5be74f",
       "version_major": 2,
       "version_minor": 0
      },
      "text/plain": [
       "mercury.MultiSelect"
      ]
     },
     "metadata": {},
     "output_type": "display_data"
    }
   ],
   "source": [
    "select = mr.MultiSelect(value=[], choices=samples)"
   ]
  },
  {
   "cell_type": "code",
   "execution_count": 6,
   "id": "1112dccb",
   "metadata": {},
   "outputs": [
    {
     "data": {
      "text/plain": [
       "()"
      ]
     },
     "execution_count": 6,
     "metadata": {},
     "output_type": "execute_result"
    }
   ],
   "source": [
    "select.value"
   ]
  },
  {
   "cell_type": "code",
   "execution_count": null,
   "id": "959ada02",
   "metadata": {},
   "outputs": [],
   "source": []
  },
  {
   "cell_type": "code",
   "execution_count": null,
   "id": "bdbf1a4c",
   "metadata": {},
   "outputs": [],
   "source": []
  }
 ],
 "metadata": {
  "kernelspec": {
   "display_name": "menv",
   "language": "python",
   "name": "menv"
  },
  "language_info": {
   "codemirror_mode": {
    "name": "ipython",
    "version": 3
   },
   "file_extension": ".py",
   "mimetype": "text/x-python",
   "name": "python",
   "nbconvert_exporter": "python",
   "pygments_lexer": "ipython3",
   "version": "3.8.10"
  }
 },
 "nbformat": 4,
 "nbformat_minor": 5
}
