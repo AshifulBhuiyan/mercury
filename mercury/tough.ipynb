{
 "cells": [
  {
   "cell_type": "code",
   "execution_count": 1,
   "id": "3faa306d",
   "metadata": {
    "hideCode": false,
    "hidePrompt": false
   },
   "outputs": [],
   "source": [
    "import mercury as mr"
   ]
  },
  {
   "cell_type": "code",
   "execution_count": 2,
   "id": "784752fc",
   "metadata": {},
   "outputs": [
    {
     "data": {
      "application/mercury+json": "{\n    \"widget\": \"App\",\n    \"title\": \"bleble\",\n    \"description\": \"\",\n    \"show_code\": true,\n    \"show_prompt\": false,\n    \"share\": \"public\",\n    \"output\": \"app\",\n    \"slug\": \"\",\n    \"schedule\": \"\",\n    \"notify\": \"{}\",\n    \"continuous_update\": true,\n    \"static_notebook\": false,\n    \"model_id\": \"mercury-app\",\n    \"code_uid\": \"App.0.32.23.1\"\n}",
      "text/html": [
       "<h3>Mercury Application</h3><small>This output won't appear in the web app.</small>"
      ],
      "text/plain": [
       "mercury.App"
      ]
     },
     "metadata": {},
     "output_type": "display_data"
    }
   ],
   "source": [
    "app = mr.App(title=\"bleble\", show_code=True)"
   ]
  },
  {
   "cell_type": "code",
   "execution_count": 3,
   "id": "293b39da",
   "metadata": {},
   "outputs": [
    {
     "data": {
      "application/mercury+json": "{\n    \"widget\": \"Range\",\n    \"value\": [\n        0,\n        1\n    ],\n    \"min\": 0,\n    \"max\": 10,\n    \"step\": 1,\n    \"label\": \"this is range\",\n    \"model_id\": \"95a161ec47f94a03a38ba9cb54d28de1\",\n    \"code_uid\": \"Range.0.32.20.1\"\n}",
      "application/vnd.jupyter.widget-view+json": {
       "model_id": "95a161ec47f94a03a38ba9cb54d28de1",
       "version_major": 2,
       "version_minor": 0
      },
      "text/plain": [
       "mercury.Range"
      ]
     },
     "metadata": {},
     "output_type": "display_data"
    }
   ],
   "source": [
    "r = mr.Range(label=\"this is range\")"
   ]
  },
  {
   "cell_type": "code",
   "execution_count": 4,
   "id": "435b9cec",
   "metadata": {},
   "outputs": [
    {
     "data": {
      "text/plain": [
       "[0, 1]"
      ]
     },
     "execution_count": 4,
     "metadata": {},
     "output_type": "execute_result"
    }
   ],
   "source": [
    "r.value"
   ]
  },
  {
   "cell_type": "code",
   "execution_count": 5,
   "id": "c829fa61",
   "metadata": {},
   "outputs": [
    {
     "data": {
      "application/mercury+json": "{\n    \"widget\": \"Slider\",\n    \"value\": 0,\n    \"min\": 0,\n    \"max\": 10,\n    \"step\": 1,\n    \"label\": \"Samples number\",\n    \"model_id\": \"52493e3f89134ff4b04babef3ee7374a\",\n    \"code_uid\": \"Slider.0.32.16.1\"\n}",
      "application/vnd.jupyter.widget-view+json": {
       "model_id": "52493e3f89134ff4b04babef3ee7374a",
       "version_major": 2,
       "version_minor": 0
      },
      "text/plain": [
       "mercury.Slider"
      ]
     },
     "metadata": {},
     "output_type": "display_data"
    }
   ],
   "source": [
    "slider = mr.Slider(label=\"Samples number\")"
   ]
  },
  {
   "cell_type": "code",
   "execution_count": 6,
   "id": "f8c4fe17",
   "metadata": {},
   "outputs": [
    {
     "data": {
      "application/mercury+json": "{\n    \"widget\": \"Button\",\n    \"label\": \"yeah\",\n    \"style\": \"success\",\n    \"value\": false,\n    \"model_id\": \"ef8cf8be912443849474fabe7b779417\",\n    \"code_uid\": \"Button.0.32.12.1\"\n}",
      "application/vnd.jupyter.widget-view+json": {
       "model_id": "ef8cf8be912443849474fabe7b779417",
       "version_major": 2,
       "version_minor": 0
      },
      "text/plain": [
       "mercury.Button"
      ]
     },
     "metadata": {},
     "output_type": "display_data"
    }
   ],
   "source": [
    "b = mr.Button(\"yeah\", style=\"success\")"
   ]
  },
  {
   "cell_type": "code",
   "execution_count": 7,
   "id": "dfb7ff03",
   "metadata": {},
   "outputs": [
    {
     "data": {
      "application/mercury+json": "{\n    \"widget\": \"Numeric\",\n    \"value\": 0.0,\n    \"min\": 0.0,\n    \"max\": 10.0,\n    \"step\": 1.0,\n    \"label\": \"some numbers too\",\n    \"model_id\": \"9d1a3fb25de24db5813260091bf5b98e\",\n    \"code_uid\": \"Numeric.0.32.16.1\"\n}",
      "application/vnd.jupyter.widget-view+json": {
       "model_id": "9d1a3fb25de24db5813260091bf5b98e",
       "version_major": 2,
       "version_minor": 0
      },
      "text/plain": [
       "mercury.Numeric"
      ]
     },
     "metadata": {},
     "output_type": "display_data"
    }
   ],
   "source": [
    "num = mr.Numeric(label=\"some numbers too\")"
   ]
  },
  {
   "cell_type": "code",
   "execution_count": 8,
   "id": "d6545758",
   "metadata": {},
   "outputs": [
    {
     "data": {
      "text/plain": [
       "0.0"
      ]
     },
     "execution_count": 8,
     "metadata": {},
     "output_type": "execute_result"
    }
   ],
   "source": [
    "num.value"
   ]
  },
  {
   "cell_type": "code",
   "execution_count": 9,
   "id": "4538b442",
   "metadata": {},
   "outputs": [
    {
     "data": {
      "application/mercury+json": "{\n    \"widget\": \"Checkbox\",\n    \"value\": true,\n    \"label\": \"is it true?\",\n    \"model_id\": \"d21838d3102b41ef8ba9d3bcad2687f6\",\n    \"code_uid\": \"Checkbox.0.32.11.1\"\n}",
      "application/vnd.jupyter.widget-view+json": {
       "model_id": "d21838d3102b41ef8ba9d3bcad2687f6",
       "version_major": 2,
       "version_minor": 0
      },
      "text/plain": [
       "mercury.Checkbox"
      ]
     },
     "metadata": {},
     "output_type": "display_data"
    }
   ],
   "source": [
    "check = mr.Checkbox(value=True, label=\"is it true?\")"
   ]
  },
  {
   "cell_type": "code",
   "execution_count": 10,
   "id": "f842b60c",
   "metadata": {},
   "outputs": [
    {
     "data": {
      "application/mercury+json": "{\n    \"widget\": \"File\",\n    \"max_file_size\": \"100MB\",\n    \"label\": \"please upload something\",\n    \"model_id\": \"c49c9478e6774a7499096cbd0665fa56\",\n    \"code_uid\": \"File.0.32.14.1\"\n}",
      "application/vnd.jupyter.widget-view+json": {
       "model_id": "c49c9478e6774a7499096cbd0665fa56",
       "version_major": 2,
       "version_minor": 0
      },
      "text/plain": [
       "mercury.File"
      ]
     },
     "metadata": {},
     "output_type": "display_data"
    }
   ],
   "source": [
    "f = mr.File(label=\"please upload something\")"
   ]
  },
  {
   "cell_type": "code",
   "execution_count": 11,
   "id": "752cdcd1",
   "metadata": {},
   "outputs": [],
   "source": [
    "f.filepath"
   ]
  },
  {
   "cell_type": "code",
   "execution_count": 12,
   "id": "c270f2fc",
   "metadata": {},
   "outputs": [
    {
     "data": {
      "application/mercury+json": "{\n    \"widget\": \"OutputDir\",\n    \"model_id\": \"output-dir\",\n    \"code_uid\": \"OutputDir.0.32.18.1\"\n}",
      "text/html": [
       "<h3>Output Directory</h3><small>This output won't appear in the web app.</small>"
      ],
      "text/plain": [
       "mercury.OutputDir"
      ]
     },
     "metadata": {},
     "output_type": "display_data"
    }
   ],
   "source": [
    "output = mr.OutputDir()"
   ]
  },
  {
   "cell_type": "code",
   "execution_count": 13,
   "id": "2bdb491d",
   "metadata": {},
   "outputs": [
    {
     "data": {
      "text/plain": [
       "'.'"
      ]
     },
     "execution_count": 13,
     "metadata": {},
     "output_type": "execute_result"
    }
   ],
   "source": [
    "output.path"
   ]
  },
  {
   "cell_type": "code",
   "execution_count": 14,
   "id": "947a9538",
   "metadata": {},
   "outputs": [],
   "source": [
    "if b.clicked:\n",
    "    import time\n",
    "    time.sleep(4)"
   ]
  },
  {
   "cell_type": "code",
   "execution_count": null,
   "id": "306ab231",
   "metadata": {
    "hideCode": false,
    "hidePrompt": false
   },
   "outputs": [],
   "source": []
  },
  {
   "cell_type": "code",
   "execution_count": 15,
   "id": "42474f03",
   "metadata": {},
   "outputs": [
    {
     "data": {
      "application/mercury+json": "{\n    \"widget\": \"Note\",\n    \"value\": \"#### Samples 0\",\n    \"model_id\": \"Note.0.32.17.1\",\n    \"code_uid\": \"Note.0.32.17.1\"\n}",
      "text/markdown": [
       "#### Samples 0"
      ],
      "text/plain": [
       "mercury.Note"
      ]
     },
     "metadata": {},
     "output_type": "display_data"
    }
   ],
   "source": [
    "_=mr.Note(f\"#### Samples {slider.value}\")"
   ]
  },
  {
   "cell_type": "code",
   "execution_count": 14,
   "id": "83e6435d",
   "metadata": {
    "scrolled": true
   },
   "outputs": [
    {
     "data": {
      "application/mercury+json": "{\n    \"widget\": \"Text\",\n    \"value\": \"\",\n    \"rows\": 1,\n    \"label\": \"Please provide text\",\n    \"model_id\": \"9463bbe9e6b84efc9774285183e152bb\",\n    \"code_uid\": \"Text.0.32.13.1\"\n}",
      "application/vnd.jupyter.widget-view+json": {
       "model_id": "9463bbe9e6b84efc9774285183e152bb",
       "version_major": 2,
       "version_minor": 0
      },
      "text/plain": [
       "mercury.Text"
      ]
     },
     "metadata": {},
     "output_type": "display_data"
    }
   ],
   "source": [
    "text = mr.Text(label=\"Please provide text\")"
   ]
  },
  {
   "cell_type": "code",
   "execution_count": 15,
   "id": "9e9ba2c1",
   "metadata": {},
   "outputs": [
    {
     "data": {
      "text/plain": [
       "''"
      ]
     },
     "execution_count": 15,
     "metadata": {},
     "output_type": "execute_result"
    }
   ],
   "source": [
    "text.value"
   ]
  },
  {
   "cell_type": "code",
   "execution_count": 16,
   "id": "acf616e0",
   "metadata": {
    "hideCode": false,
    "hidePrompt": false
   },
   "outputs": [],
   "source": [
    "slider2 = None\n",
    "if slider.value > 3:\n",
    "    print(\"add new slider\")\n",
    "    slider2 = mr.Slider(label=\"Samples number 2\")\n",
    "#else:\n",
    "#    print(\"hide slider\")\n",
    "#print(\"duppa\")"
   ]
  },
  {
   "cell_type": "code",
   "execution_count": 17,
   "id": "f120ee76",
   "metadata": {},
   "outputs": [
    {
     "name": "stdout",
     "output_type": "stream",
     "text": [
      "0\n"
     ]
    }
   ],
   "source": [
    "print(slider.value)"
   ]
  },
  {
   "cell_type": "code",
   "execution_count": 18,
   "id": "fdf5d77f",
   "metadata": {},
   "outputs": [],
   "source": [
    "if slider2:\n",
    "    slider2.value"
   ]
  },
  {
   "cell_type": "code",
   "execution_count": 19,
   "id": "badb269b",
   "metadata": {
    "hideCode": false,
    "hidePrompt": false
   },
   "outputs": [],
   "source": [
    "samples = [f\"sample {i}\" for i in range(slider.value)]"
   ]
  },
  {
   "cell_type": "code",
   "execution_count": 20,
   "id": "a3f3d505",
   "metadata": {
    "hideCode": false,
    "hidePrompt": false
   },
   "outputs": [
    {
     "data": {
      "application/mercury+json": "{\n    \"widget\": \"MultiSelect\",\n    \"value\": [],\n    \"choices\": [],\n    \"label\": \"adsfasd fasdf adsf\",\n    \"model_id\": \"148db5bef3c04d369b9d7776dfa44b89\",\n    \"code_uid\": \"MultiSelect.0.32.14.1\"\n}",
      "application/vnd.jupyter.widget-view+json": {
       "model_id": "148db5bef3c04d369b9d7776dfa44b89",
       "version_major": 2,
       "version_minor": 0
      },
      "text/plain": [
       "mercury.MultiSelect"
      ]
     },
     "metadata": {},
     "output_type": "display_data"
    }
   ],
   "source": [
    "select = mr.MultiSelect(value=[], choices=samples, label=\"adsfasd fasdf adsf\")"
   ]
  },
  {
   "cell_type": "code",
   "execution_count": 21,
   "id": "3f41dc17",
   "metadata": {
    "hideCode": false,
    "hidePrompt": false
   },
   "outputs": [
    {
     "data": {
      "text/plain": [
       "[]"
      ]
     },
     "execution_count": 21,
     "metadata": {},
     "output_type": "execute_result"
    }
   ],
   "source": [
    "samples"
   ]
  },
  {
   "cell_type": "code",
   "execution_count": 22,
   "id": "827e32fc",
   "metadata": {},
   "outputs": [
    {
     "name": "stdout",
     "output_type": "stream",
     "text": [
      "init me please\n"
     ]
    }
   ],
   "source": [
    "print(\"init me please\")"
   ]
  },
  {
   "cell_type": "code",
   "execution_count": null,
   "id": "f7c298f0",
   "metadata": {},
   "outputs": [],
   "source": []
  },
  {
   "cell_type": "code",
   "execution_count": null,
   "id": "ab07aeec",
   "metadata": {},
   "outputs": [],
   "source": []
  },
  {
   "cell_type": "code",
   "execution_count": null,
   "id": "dbb939ce",
   "metadata": {},
   "outputs": [],
   "source": []
  },
  {
   "cell_type": "code",
   "execution_count": null,
   "id": "f9aec568",
   "metadata": {},
   "outputs": [],
   "source": []
  }
 ],
 "metadata": {
  "hide_code_all_hidden": false,
  "kernelspec": {
   "display_name": "menv",
   "language": "python",
   "name": "menv"
  },
  "language_info": {
   "codemirror_mode": {
    "name": "ipython",
    "version": 3
   },
   "file_extension": ".py",
   "mimetype": "text/x-python",
   "name": "python",
   "nbconvert_exporter": "python",
   "pygments_lexer": "ipython3",
   "version": "3.8.0"
  }
 },
 "nbformat": 4,
 "nbformat_minor": 5
}
