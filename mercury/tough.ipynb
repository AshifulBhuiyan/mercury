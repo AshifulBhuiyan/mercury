{
 "cells": [
  {
   "cell_type": "code",
   "execution_count": 1,
   "id": "3faa306d",
   "metadata": {
    "hideCode": false,
    "hidePrompt": false
   },
   "outputs": [],
   "source": [
    "import mercury as mr"
   ]
  },
  {
   "cell_type": "code",
   "execution_count": 23,
   "id": "784752fc",
   "metadata": {},
   "outputs": [
    {
     "data": {
      "application/mercury+json": "{\n    \"widget\": \"App\",\n    \"title\": \"bleble\",\n    \"description\": \"\",\n    \"show_code\": true,\n    \"show_prompt\": false,\n    \"share\": \"public\",\n    \"output\": \"app\",\n    \"slug\": \"\",\n    \"schedule\": \"\",\n    \"notify\": \"{}\",\n    \"continuous_update\": true,\n    \"static_notebook\": false,\n    \"model_id\": \"mercury-app\",\n    \"code_uid\": \"App.0.32.23.1\"\n}",
      "text/plain": [
       "mercury.App"
      ]
     },
     "metadata": {},
     "output_type": "display_data"
    }
   ],
   "source": [
    "app = mr.App(title=\"bleble\", show_code=True)"
   ]
  },
  {
   "cell_type": "code",
   "execution_count": 25,
   "id": "293b39da",
   "metadata": {},
   "outputs": [
    {
     "data": {
      "application/mercury+json": "{\n    \"widget\": \"Range\",\n    \"value\": [\n        0,\n        1\n    ],\n    \"min\": 0,\n    \"max\": 10,\n    \"step\": 1,\n    \"label\": \"this is range\",\n    \"model_id\": \"84d4725f1375416f9d0a92d449bf2a22\",\n    \"code_uid\": \"Range.0.32.20.1\"\n}",
      "application/vnd.jupyter.widget-view+json": {
       "model_id": "84d4725f1375416f9d0a92d449bf2a22",
       "version_major": 2,
       "version_minor": 0
      },
      "text/plain": [
       "mercury.Range"
      ]
     },
     "metadata": {},
     "output_type": "display_data"
    }
   ],
   "source": [
    "r = mr.Range(label=\"this is range\")"
   ]
  },
  {
   "cell_type": "code",
   "execution_count": 26,
   "id": "435b9cec",
   "metadata": {},
   "outputs": [
    {
     "data": {
      "text/plain": [
       "(0, 1)"
      ]
     },
     "execution_count": 26,
     "metadata": {},
     "output_type": "execute_result"
    }
   ],
   "source": [
    "r.value"
   ]
  },
  {
   "cell_type": "code",
   "execution_count": 3,
   "id": "c829fa61",
   "metadata": {},
   "outputs": [
    {
     "data": {
      "application/mercury+json": "{\n    \"widget\": \"Slider\",\n    \"value\": 0,\n    \"min\": 0,\n    \"max\": 10,\n    \"step\": 1,\n    \"label\": \"Samples number\",\n    \"model_id\": \"655a1c036f3b478fb3e968996b3a1dac\",\n    \"code_uid\": \"Slider.0.32.16.1\"\n}",
      "application/vnd.jupyter.widget-view+json": {
       "model_id": "655a1c036f3b478fb3e968996b3a1dac",
       "version_major": 2,
       "version_minor": 0
      },
      "text/plain": [
       "mercury.Slider"
      ]
     },
     "metadata": {},
     "output_type": "display_data"
    }
   ],
   "source": [
    "slider = mr.Slider(label=\"Samples number\")"
   ]
  },
  {
   "cell_type": "code",
   "execution_count": 4,
   "id": "f8c4fe17",
   "metadata": {},
   "outputs": [
    {
     "data": {
      "application/mercury+json": "{\n    \"widget\": \"Button\",\n    \"label\": \"yeah\",\n    \"style\": \"success\",\n    \"value\": false,\n    \"model_id\": \"fa023fbaa8ef45b7b91bdda352751e3e\",\n    \"code_uid\": \"Button.0.32.12.1\"\n}",
      "application/vnd.jupyter.widget-view+json": {
       "model_id": "fa023fbaa8ef45b7b91bdda352751e3e",
       "version_major": 2,
       "version_minor": 0
      },
      "text/plain": [
       "mercury.Button"
      ]
     },
     "metadata": {},
     "output_type": "display_data"
    }
   ],
   "source": [
    "b = mr.Button(\"yeah\", style=\"success\")"
   ]
  },
  {
   "cell_type": "code",
   "execution_count": 5,
   "id": "dfb7ff03",
   "metadata": {},
   "outputs": [
    {
     "data": {
      "application/mercury+json": "{\n    \"widget\": \"Numeric\",\n    \"value\": 0.0,\n    \"min\": 0.0,\n    \"max\": 10.0,\n    \"step\": 1.0,\n    \"label\": \"some numbers too\",\n    \"model_id\": \"c71fc98827a445ccbc0326a757f10084\",\n    \"code_uid\": \"Numeric.0.32.16.1\"\n}",
      "application/vnd.jupyter.widget-view+json": {
       "model_id": "c71fc98827a445ccbc0326a757f10084",
       "version_major": 2,
       "version_minor": 0
      },
      "text/plain": [
       "mercury.Numeric"
      ]
     },
     "metadata": {},
     "output_type": "display_data"
    }
   ],
   "source": [
    "num = mr.Numeric(label=\"some numbers too\")"
   ]
  },
  {
   "cell_type": "code",
   "execution_count": 6,
   "id": "d6545758",
   "metadata": {},
   "outputs": [
    {
     "data": {
      "text/plain": [
       "0.0"
      ]
     },
     "execution_count": 6,
     "metadata": {},
     "output_type": "execute_result"
    }
   ],
   "source": [
    "num.value"
   ]
  },
  {
   "cell_type": "code",
   "execution_count": 7,
   "id": "4538b442",
   "metadata": {},
   "outputs": [
    {
     "data": {
      "application/mercury+json": "{\n    \"widget\": \"Checkbox\",\n    \"value\": true,\n    \"label\": \"is it true?\",\n    \"model_id\": \"a715b315c2e04b7da691a44e0552d605\",\n    \"code_uid\": \"Checkbox.0.32.11.1\"\n}",
      "application/vnd.jupyter.widget-view+json": {
       "model_id": "a715b315c2e04b7da691a44e0552d605",
       "version_major": 2,
       "version_minor": 0
      },
      "text/plain": [
       "mercury.Checkbox"
      ]
     },
     "metadata": {},
     "output_type": "display_data"
    }
   ],
   "source": [
    "check = mr.Checkbox(value=True, label=\"is it true?\")"
   ]
  },
  {
   "cell_type": "code",
   "execution_count": 8,
   "id": "f842b60c",
   "metadata": {},
   "outputs": [
    {
     "data": {
      "application/mercury+json": "{\n    \"widget\": \"File\",\n    \"max_file_size\": \"100MB\",\n    \"label\": \"please upload something\",\n    \"model_id\": \"20cd36e687e3459a8b4d20e9f7fa5bec\",\n    \"code_uid\": \"File.0.32.14.1\"\n}",
      "application/vnd.jupyter.widget-view+json": {
       "model_id": "20cd36e687e3459a8b4d20e9f7fa5bec",
       "version_major": 2,
       "version_minor": 0
      },
      "text/plain": [
       "mercury.File"
      ]
     },
     "metadata": {},
     "output_type": "display_data"
    }
   ],
   "source": [
    "f = mr.File(label=\"please upload something\")"
   ]
  },
  {
   "cell_type": "code",
   "execution_count": 9,
   "id": "752cdcd1",
   "metadata": {},
   "outputs": [],
   "source": [
    "f.filepath"
   ]
  },
  {
   "cell_type": "code",
   "execution_count": 10,
   "id": "c270f2fc",
   "metadata": {},
   "outputs": [
    {
     "data": {
      "application/mercury+json": "{\n    \"widget\": \"OutputDir\",\n    \"model_id\": \"output-dir\",\n    \"code_uid\": \"OutputDir.0.32.18.1\"\n}",
      "text/plain": [
       "mercury.OutputDir"
      ]
     },
     "metadata": {},
     "output_type": "display_data"
    }
   ],
   "source": [
    "output = mr.OutputDir()"
   ]
  },
  {
   "cell_type": "code",
   "execution_count": 11,
   "id": "2bdb491d",
   "metadata": {},
   "outputs": [
    {
     "data": {
      "text/plain": [
       "'.'"
      ]
     },
     "execution_count": 11,
     "metadata": {},
     "output_type": "execute_result"
    }
   ],
   "source": [
    "output.path"
   ]
  },
  {
   "cell_type": "code",
   "execution_count": 12,
   "id": "947a9538",
   "metadata": {},
   "outputs": [],
   "source": [
    "if b.clicked:\n",
    "    import time\n",
    "    time.sleep(4)"
   ]
  },
  {
   "cell_type": "code",
   "execution_count": null,
   "id": "306ab231",
   "metadata": {
    "hideCode": false,
    "hidePrompt": false
   },
   "outputs": [],
   "source": []
  },
  {
   "cell_type": "code",
   "execution_count": 13,
   "id": "42474f03",
   "metadata": {},
   "outputs": [
    {
     "data": {
      "application/mercury+json": "{\n    \"widget\": \"Note\",\n    \"value\": \"#### Samples 0\",\n    \"model_id\": \"Note.0.32.17.1\",\n    \"code_uid\": \"Note.0.32.17.1\"\n}",
      "text/markdown": [
       "#### Samples 0"
      ],
      "text/plain": [
       "mercury.Note"
      ]
     },
     "metadata": {},
     "output_type": "display_data"
    }
   ],
   "source": [
    "_=mr.Note(f\"#### Samples {slider.value}\")"
   ]
  },
  {
   "cell_type": "code",
   "execution_count": 14,
   "id": "83e6435d",
   "metadata": {
    "scrolled": true
   },
   "outputs": [
    {
     "data": {
      "application/mercury+json": "{\n    \"widget\": \"Text\",\n    \"value\": \"\",\n    \"rows\": 1,\n    \"label\": \"Please provide text\",\n    \"model_id\": \"9463bbe9e6b84efc9774285183e152bb\",\n    \"code_uid\": \"Text.0.32.13.1\"\n}",
      "application/vnd.jupyter.widget-view+json": {
       "model_id": "9463bbe9e6b84efc9774285183e152bb",
       "version_major": 2,
       "version_minor": 0
      },
      "text/plain": [
       "mercury.Text"
      ]
     },
     "metadata": {},
     "output_type": "display_data"
    }
   ],
   "source": [
    "text = mr.Text(label=\"Please provide text\")"
   ]
  },
  {
   "cell_type": "code",
   "execution_count": 15,
   "id": "9e9ba2c1",
   "metadata": {},
   "outputs": [
    {
     "data": {
      "text/plain": [
       "''"
      ]
     },
     "execution_count": 15,
     "metadata": {},
     "output_type": "execute_result"
    }
   ],
   "source": [
    "text.value"
   ]
  },
  {
   "cell_type": "code",
   "execution_count": 16,
   "id": "acf616e0",
   "metadata": {
    "hideCode": false,
    "hidePrompt": false
   },
   "outputs": [],
   "source": [
    "slider2 = None\n",
    "if slider.value > 3:\n",
    "    print(\"add new slider\")\n",
    "    slider2 = mr.Slider(label=\"Samples number 2\")\n",
    "#else:\n",
    "#    print(\"hide slider\")\n",
    "#print(\"duppa\")"
   ]
  },
  {
   "cell_type": "code",
   "execution_count": 17,
   "id": "f120ee76",
   "metadata": {},
   "outputs": [
    {
     "name": "stdout",
     "output_type": "stream",
     "text": [
      "0\n"
     ]
    }
   ],
   "source": [
    "print(slider.value)"
   ]
  },
  {
   "cell_type": "code",
   "execution_count": 18,
   "id": "fdf5d77f",
   "metadata": {},
   "outputs": [],
   "source": [
    "if slider2:\n",
    "    slider2.value"
   ]
  },
  {
   "cell_type": "code",
   "execution_count": 19,
   "id": "badb269b",
   "metadata": {
    "hideCode": false,
    "hidePrompt": false
   },
   "outputs": [],
   "source": [
    "samples = [f\"sample {i}\" for i in range(slider.value)]"
   ]
  },
  {
   "cell_type": "code",
   "execution_count": 20,
   "id": "a3f3d505",
   "metadata": {
    "hideCode": false,
    "hidePrompt": false
   },
   "outputs": [
    {
     "data": {
      "application/mercury+json": "{\n    \"widget\": \"MultiSelect\",\n    \"value\": [],\n    \"choices\": [],\n    \"label\": \"adsfasd fasdf adsf\",\n    \"model_id\": \"148db5bef3c04d369b9d7776dfa44b89\",\n    \"code_uid\": \"MultiSelect.0.32.14.1\"\n}",
      "application/vnd.jupyter.widget-view+json": {
       "model_id": "148db5bef3c04d369b9d7776dfa44b89",
       "version_major": 2,
       "version_minor": 0
      },
      "text/plain": [
       "mercury.MultiSelect"
      ]
     },
     "metadata": {},
     "output_type": "display_data"
    }
   ],
   "source": [
    "select = mr.MultiSelect(value=[], choices=samples, label=\"adsfasd fasdf adsf\")"
   ]
  },
  {
   "cell_type": "code",
   "execution_count": 21,
   "id": "3f41dc17",
   "metadata": {
    "hideCode": false,
    "hidePrompt": false
   },
   "outputs": [
    {
     "data": {
      "text/plain": [
       "[]"
      ]
     },
     "execution_count": 21,
     "metadata": {},
     "output_type": "execute_result"
    }
   ],
   "source": [
    "samples"
   ]
  },
  {
   "cell_type": "code",
   "execution_count": 22,
   "id": "827e32fc",
   "metadata": {},
   "outputs": [
    {
     "name": "stdout",
     "output_type": "stream",
     "text": [
      "init me please\n"
     ]
    }
   ],
   "source": [
    "print(\"init me please\")"
   ]
  },
  {
   "cell_type": "code",
   "execution_count": null,
   "id": "f7c298f0",
   "metadata": {},
   "outputs": [],
   "source": []
  },
  {
   "cell_type": "code",
   "execution_count": null,
   "id": "ab07aeec",
   "metadata": {},
   "outputs": [],
   "source": []
  },
  {
   "cell_type": "code",
   "execution_count": null,
   "id": "dbb939ce",
   "metadata": {},
   "outputs": [],
   "source": []
  },
  {
   "cell_type": "code",
   "execution_count": null,
   "id": "f9aec568",
   "metadata": {},
   "outputs": [],
   "source": []
  }
 ],
 "metadata": {
  "hide_code_all_hidden": false,
  "kernelspec": {
   "display_name": "menv",
   "language": "python",
   "name": "menv"
  },
  "language_info": {
   "codemirror_mode": {
    "name": "ipython",
    "version": 3
   },
   "file_extension": ".py",
   "mimetype": "text/x-python",
   "name": "python",
   "nbconvert_exporter": "python",
   "pygments_lexer": "ipython3",
   "version": "3.8.10"
  }
 },
 "nbformat": 4,
 "nbformat_minor": 5
}
