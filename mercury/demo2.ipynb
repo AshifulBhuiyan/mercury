{
 "cells": [
  {
   "cell_type": "markdown",
   "id": "f3ee12f2",
   "metadata": {},
   "source": [
    "# Mercury V2 demo 🚀"
   ]
  },
  {
   "cell_type": "code",
   "execution_count": 1,
   "id": "d607aad5",
   "metadata": {},
   "outputs": [],
   "source": [
    "import mercury\n",
    "import mercury as mr"
   ]
  },
  {
   "cell_type": "code",
   "execution_count": 2,
   "id": "1bfccfe3",
   "metadata": {},
   "outputs": [
    {
     "data": {
      "application/mercury+json": "{\n    \"widget\": \"OutputDir\",\n    \"model_id\": \"output-dir\"\n}",
      "text/plain": [
       "mercury.OutputDir"
      ]
     },
     "metadata": {},
     "output_type": "display_data"
    }
   ],
   "source": [
    "output_dir = mercury.OutputDir()"
   ]
  },
  {
   "cell_type": "code",
   "execution_count": 3,
   "id": "ea0e2740",
   "metadata": {},
   "outputs": [
    {
     "data": {
      "text/plain": [
       "'.'"
      ]
     },
     "execution_count": 3,
     "metadata": {},
     "output_type": "execute_result"
    }
   ],
   "source": [
    "output_dir.path"
   ]
  },
  {
   "cell_type": "code",
   "execution_count": 4,
   "id": "8929f839",
   "metadata": {},
   "outputs": [],
   "source": [
    "import os\n",
    "with open(os.path.join(output_dir.path, \"this-is-test-file.txt\"), \"w\") as fout:\n",
    "    fout.write(\"some test inside\")"
   ]
  },
  {
   "cell_type": "code",
   "execution_count": null,
   "id": "56a7a38d",
   "metadata": {},
   "outputs": [],
   "source": []
  },
  {
   "cell_type": "code",
   "execution_count": 5,
   "id": "7f7d419b",
   "metadata": {},
   "outputs": [
    {
     "data": {
      "application/mercury+json": "{\n    \"widget\": \"Checkbox\",\n    \"value\": true,\n    \"label\": \"yes or no\",\n    \"model_id\": \"729f4c73769f4da49b9dda13cd83a37e\"\n}",
      "application/vnd.jupyter.widget-view+json": {
       "model_id": "729f4c73769f4da49b9dda13cd83a37e",
       "version_major": 2,
       "version_minor": 0
      },
      "text/plain": [
       "mercury.Checkbox"
      ]
     },
     "metadata": {},
     "output_type": "display_data"
    }
   ],
   "source": [
    "c = mr.Checkbox(label=\"yes or no\")"
   ]
  },
  {
   "cell_type": "code",
   "execution_count": 6,
   "id": "b1eb17cb",
   "metadata": {},
   "outputs": [
    {
     "data": {
      "application/mercury+json": "{\n    \"widget\": \"Text\",\n    \"value\": \"Hi Mercury!\",\n    \"rows\": 1,\n    \"label\": \"\",\n    \"model_id\": \"42079ac4219c40c3ab2d6a692fcef8ab\"\n}",
      "application/vnd.jupyter.widget-view+json": {
       "model_id": "42079ac4219c40c3ab2d6a692fcef8ab",
       "version_major": 2,
       "version_minor": 0
      },
      "text/plain": [
       "mercury.Text"
      ]
     },
     "metadata": {},
     "output_type": "display_data"
    }
   ],
   "source": [
    "t = mercury.Text(\"Hi Mercury!\", rows=1)"
   ]
  },
  {
   "cell_type": "code",
   "execution_count": 7,
   "id": "14400165",
   "metadata": {},
   "outputs": [
    {
     "data": {
      "text/plain": [
       "'Hi Mercury!'"
      ]
     },
     "execution_count": 7,
     "metadata": {},
     "output_type": "execute_result"
    }
   ],
   "source": [
    "t.value"
   ]
  },
  {
   "cell_type": "code",
   "execution_count": 9,
   "id": "05817504",
   "metadata": {},
   "outputs": [],
   "source": [
    "import matplotlib.pyplot as plt"
   ]
  },
  {
   "cell_type": "code",
   "execution_count": 10,
   "id": "7dd22c82",
   "metadata": {},
   "outputs": [
    {
     "data": {
      "application/mercury+json": "{\n    \"widget\": \"Slider\",\n    \"value\": 3,\n    \"min\": 0,\n    \"max\": 6,\n    \"step\": 1,\n    \"label\": \"My first slider\",\n    \"model_id\": \"a26a7963f3394b4b85018072029dbe7b\"\n}",
      "application/vnd.jupyter.widget-view+json": {
       "model_id": "a26a7963f3394b4b85018072029dbe7b",
       "version_major": 2,
       "version_minor": 0
      },
      "text/plain": [
       "mercury.Slider"
      ]
     },
     "metadata": {},
     "output_type": "display_data"
    }
   ],
   "source": [
    "m = mercury.Slider(value=3, label=\"My first slider\", min=0, max=6)"
   ]
  },
  {
   "cell_type": "code",
   "execution_count": 22,
   "id": "3f4b4bdf",
   "metadata": {},
   "outputs": [
    {
     "data": {
      "text/plain": [
       "5"
      ]
     },
     "execution_count": 22,
     "metadata": {},
     "output_type": "execute_result"
    }
   ],
   "source": [
    "m.value"
   ]
  },
  {
   "cell_type": "code",
   "execution_count": 12,
   "id": "e55d269a",
   "metadata": {},
   "outputs": [
    {
     "data": {
      "application/mercury+json": "{\n    \"widget\": \"Slider\",\n    \"value\": 4,\n    \"min\": 0,\n    \"max\": 10,\n    \"step\": 1,\n    \"label\": \"My second slider 3\",\n    \"model_id\": \"efcfbaafaf7e48bb87cb7b1ae0217a93\"\n}",
      "application/vnd.jupyter.widget-view+json": {
       "model_id": "efcfbaafaf7e48bb87cb7b1ae0217a93",
       "version_major": 2,
       "version_minor": 0
      },
      "text/plain": [
       "mercury.Slider"
      ]
     },
     "metadata": {},
     "output_type": "display_data"
    }
   ],
   "source": [
    "m2 = mercury.Slider(value=4, label=f\"My second slider {m.value}\")\n"
   ]
  },
  {
   "cell_type": "code",
   "execution_count": 13,
   "id": "08b46893",
   "metadata": {},
   "outputs": [
    {
     "data": {
      "application/mercury+json": "{\n    \"widget\": \"Range\",\n    \"value\": [\n        2,\n        6\n    ],\n    \"min\": 0,\n    \"max\": 10,\n    \"step\": 1,\n    \"label\": \"My first range\",\n    \"model_id\": \"1e90a8a50164426893b8d62223a4e34e\"\n}",
      "application/vnd.jupyter.widget-view+json": {
       "model_id": "1e90a8a50164426893b8d62223a4e34e",
       "version_major": 2,
       "version_minor": 0
      },
      "text/plain": [
       "mercury.Range"
      ]
     },
     "metadata": {},
     "output_type": "display_data"
    }
   ],
   "source": [
    "r = mercury.Range([2,6], label=\"My first range\")"
   ]
  },
  {
   "cell_type": "code",
   "execution_count": 24,
   "id": "f54daa37",
   "metadata": {},
   "outputs": [
    {
     "data": {
      "image/png": "[encoded data removed]",
      "text/plain": [
       "<Figure size 432x288 with 1 Axes>"
      ]
     },
     "metadata": {
      "needs_background": "light"
     },
     "output_type": "display_data"
    }
   ],
   "source": [
    "_=plt.plot([m.value,m2.value, r.value[0], r.value[1]])"
   ]
  },
  {
   "cell_type": "code",
   "execution_count": 15,
   "id": "1590a674",
   "metadata": {},
   "outputs": [],
   "source": [
    "from mercury import Select"
   ]
  },
  {
   "cell_type": "code",
   "execution_count": 16,
   "id": "c591cc8b",
   "metadata": {},
   "outputs": [],
   "source": [
    "d = {\"BIG\": [\"A\", \"B\", \"C\"], \"small\": [\"a\", \"b\", \"c\"]}"
   ]
  },
  {
   "cell_type": "code",
   "execution_count": 17,
   "id": "2c0d9dc4",
   "metadata": {},
   "outputs": [
    {
     "data": {
      "application/mercury+json": "{\n    \"widget\": \"Select\",\n    \"value\": \"BIG\",\n    \"choices\": [\n        \"small\",\n        \"BIG\"\n    ],\n    \"label\": \"\",\n    \"model_id\": \"0fd8d9e103bc416590585a4992dbbd80\"\n}",
      "application/vnd.jupyter.widget-view+json": {
       "model_id": "0fd8d9e103bc416590585a4992dbbd80",
       "version_major": 2,
       "version_minor": 0
      },
      "text/plain": [
       "mercury.Select"
      ]
     },
     "metadata": {},
     "output_type": "display_data"
    }
   ],
   "source": [
    "s1 = Select(value=\"BIG\", choices = [\"small\", \"BIG\"])"
   ]
  },
  {
   "cell_type": "code",
   "execution_count": 18,
   "id": "29987440",
   "metadata": {},
   "outputs": [
    {
     "data": {
      "application/mercury+json": "{\n    \"widget\": \"Select\",\n    \"value\": \"A\",\n    \"choices\": [\n        \"A\",\n        \"B\",\n        \"C\"\n    ],\n    \"label\": \"\",\n    \"model_id\": \"1335a8cc341843d4b56ef9b1f644e047\"\n}",
      "application/vnd.jupyter.widget-view+json": {
       "model_id": "1335a8cc341843d4b56ef9b1f644e047",
       "version_major": 2,
       "version_minor": 0
      },
      "text/plain": [
       "mercury.Select"
      ]
     },
     "metadata": {},
     "output_type": "display_data"
    }
   ],
   "source": [
    "s2 = Select(value=d[s1.value][0], choices=d[s1.value])"
   ]
  },
  {
   "cell_type": "code",
   "execution_count": 19,
   "id": "b1717628",
   "metadata": {},
   "outputs": [
    {
     "name": "stdout",
     "output_type": "stream",
     "text": [
      "Done!\n"
     ]
    }
   ],
   "source": [
    "print(\"Done!\")"
   ]
  },
  {
   "cell_type": "code",
   "execution_count": 20,
   "id": "990b1516",
   "metadata": {},
   "outputs": [
    {
     "data": {
      "application/mercury+json": "{\n    \"widget\": \"Text\",\n    \"value\": \"Hi Mercury!\",\n    \"rows\": 4,\n    \"label\": \"\",\n    \"model_id\": \"f6e8ed117da445759293a8812c1b2e6e\"\n}",
      "application/vnd.jupyter.widget-view+json": {
       "model_id": "f6e8ed117da445759293a8812c1b2e6e",
       "version_major": 2,
       "version_minor": 0
      },
      "text/plain": [
       "mercury.Text"
      ]
     },
     "metadata": {},
     "output_type": "display_data"
    }
   ],
   "source": [
    "t2 = mercury.Text(\"Hi Mercury!\", rows=4)"
   ]
  },
  {
   "cell_type": "code",
   "execution_count": 21,
   "id": "39c857ed",
   "metadata": {},
   "outputs": [
    {
     "data": {
      "application/mercury+json": "{\n    \"widget\": \"Numeric\",\n    \"value\": 0.5,\n    \"min\": 0.0,\n    \"max\": 10.0,\n    \"step\": 0.1,\n    \"label\": \"numeric\",\n    \"model_id\": \"b50940732ee342ab97eab8d2f25bbdb0\"\n}",
      "application/vnd.jupyter.widget-view+json": {
       "model_id": "b50940732ee342ab97eab8d2f25bbdb0",
       "version_major": 2,
       "version_minor": 0
      },
      "text/plain": [
       "mercury.Numeric"
      ]
     },
     "metadata": {},
     "output_type": "display_data"
    }
   ],
   "source": [
    "n = mercury.Numeric(label=\"numeric\", value=0.5, step=0.1)"
   ]
  },
  {
   "cell_type": "code",
   "execution_count": null,
   "id": "7023a698",
   "metadata": {},
   "outputs": [],
   "source": []
  }
 ],
 "metadata": {
  "kernelspec": {
   "display_name": "menv",
   "language": "python",
   "name": "menv"
  },
  "language_info": {
   "codemirror_mode": {
    "name": "ipython",
    "version": 3
   },
   "file_extension": ".py",
   "mimetype": "text/x-python",
   "name": "python",
   "nbconvert_exporter": "python",
   "pygments_lexer": "ipython3",
   "version": "3.8.10"
  }
 },
 "nbformat": 4,
 "nbformat_minor": 5
}
