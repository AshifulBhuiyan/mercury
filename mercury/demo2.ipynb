{
 "cells": [
  {
   "cell_type": "markdown",
   "id": "f3ee12f2",
   "metadata": {},
   "source": [
    "# Mercury V2 demo 🚀"
   ]
  },
  {
   "cell_type": "code",
   "execution_count": 1,
   "id": "d607aad5",
   "metadata": {},
   "outputs": [],
   "source": [
    "import mercury\n",
    "import mercury as m"
   ]
  },
  {
   "cell_type": "code",
   "execution_count": 2,
   "id": "1bfccfe3",
   "metadata": {},
   "outputs": [
    {
     "data": {
      "application/mercury+json": "{\n    \"widget\": \"OutputDir\"\n}",
      "text/plain": [
       "mercury.OutputDir"
      ]
     },
     "metadata": {},
     "output_type": "display_data"
    }
   ],
   "source": [
    "output_dir = mercury.OutputDir()"
   ]
  },
  {
   "cell_type": "code",
   "execution_count": 3,
   "id": "ea0e2740",
   "metadata": {},
   "outputs": [
    {
     "data": {
      "text/plain": [
       "'.'"
      ]
     },
     "execution_count": 3,
     "metadata": {},
     "output_type": "execute_result"
    }
   ],
   "source": [
    "output_dir.path"
   ]
  },
  {
   "cell_type": "code",
   "execution_count": 4,
   "id": "8929f839",
   "metadata": {},
   "outputs": [],
   "source": [
    "import os\n",
    "with open(os.path.join(output_dir.path, \"this-is-test-file.txt\"), \"w\") as fout:\n",
    "    fout.write(\"some test inside\")"
   ]
  },
  {
   "cell_type": "code",
   "execution_count": null,
   "id": "56a7a38d",
   "metadata": {},
   "outputs": [],
   "source": []
  },
  {
   "cell_type": "code",
   "execution_count": 5,
   "id": "7f7d419b",
   "metadata": {},
   "outputs": [
    {
     "data": {
      "application/mercury+json": "{\n    \"widget\": \"Checkbox\",\n    \"value\": true,\n    \"label\": \"yes or no\",\n    \"model_id\": \"21c2eddf86554d3e80f9a7d6250e34a7\"\n}",
      "application/vnd.jupyter.widget-view+json": {
       "model_id": "21c2eddf86554d3e80f9a7d6250e34a7",
       "version_major": 2,
       "version_minor": 0
      },
      "text/plain": [
       "mercury.Checkbox"
      ]
     },
     "metadata": {},
     "output_type": "display_data"
    }
   ],
   "source": [
    "c = m.Checkbox(label=\"yes or no\")"
   ]
  },
  {
   "cell_type": "code",
   "execution_count": 6,
   "id": "b1eb17cb",
   "metadata": {},
   "outputs": [
    {
     "data": {
      "application/mercury+json": "{\n    \"widget\": \"Text\",\n    \"value\": \"Hi Mercury!\",\n    \"rows\": 1,\n    \"label\": \"\",\n    \"model_id\": \"001355dc8d5a47688d77185a956e4795\"\n}",
      "application/vnd.jupyter.widget-view+json": {
       "model_id": "001355dc8d5a47688d77185a956e4795",
       "version_major": 2,
       "version_minor": 0
      },
      "text/plain": [
       "mercury.Text"
      ]
     },
     "metadata": {},
     "output_type": "display_data"
    }
   ],
   "source": [
    "t = mercury.Text(\"Hi Mercury!\", rows=1)"
   ]
  },
  {
   "cell_type": "code",
   "execution_count": 7,
   "id": "14400165",
   "metadata": {},
   "outputs": [
    {
     "data": {
      "text/plain": [
       "'Hi Mercury!'"
      ]
     },
     "execution_count": 7,
     "metadata": {},
     "output_type": "execute_result"
    }
   ],
   "source": [
    "t.value"
   ]
  },
  {
   "cell_type": "code",
   "execution_count": 8,
   "id": "312a81a3",
   "metadata": {
    "scrolled": true
   },
   "outputs": [
    {
     "data": {
      "application/mercury+json": "{\n    \"widget\": \"App\",\n    \"title\": \"Mercury V2 demo \\ud83d\\ude80\",\n    \"description\": \"V2 demo\",\n    \"show_code\": false,\n    \"model_id\": \"mercury-app\"\n}",
      "text/plain": [
       "mercury.App(title=\"Mercury V2 demo 🚀\", description=\"V2 demo\", show_code=False)"
      ]
     },
     "metadata": {},
     "output_type": "display_data"
    }
   ],
   "source": [
    "app = mercury.App(title=\"Mercury V2 demo 🚀\", description=\"V2 demo\")"
   ]
  },
  {
   "cell_type": "code",
   "execution_count": 9,
   "id": "05817504",
   "metadata": {},
   "outputs": [],
   "source": [
    "import matplotlib.pyplot as plt"
   ]
  },
  {
   "cell_type": "code",
   "execution_count": 10,
   "id": "7dd22c82",
   "metadata": {},
   "outputs": [
    {
     "data": {
      "application/mercury+json": "{\n    \"widget\": \"Slider\",\n    \"value\": 3,\n    \"min\": 0,\n    \"max\": 6,\n    \"step\": 1,\n    \"label\": \"My first slider\",\n    \"model_id\": \"f62ebfee87664586ac404288dc535292\"\n}",
      "application/vnd.jupyter.widget-view+json": {
       "model_id": "f62ebfee87664586ac404288dc535292",
       "version_major": 2,
       "version_minor": 0
      },
      "text/plain": [
       "mercury.Slider"
      ]
     },
     "metadata": {},
     "output_type": "display_data"
    }
   ],
   "source": [
    "m = mercury.Slider(value=3, label=\"My first slider\", min_value=0, max_value=6)"
   ]
  },
  {
   "cell_type": "code",
   "execution_count": 11,
   "id": "3f4b4bdf",
   "metadata": {},
   "outputs": [
    {
     "data": {
      "text/plain": [
       "3"
      ]
     },
     "execution_count": 11,
     "metadata": {},
     "output_type": "execute_result"
    }
   ],
   "source": [
    "m.value"
   ]
  },
  {
   "cell_type": "code",
   "execution_count": 12,
   "id": "e55d269a",
   "metadata": {},
   "outputs": [
    {
     "data": {
      "application/mercury+json": "{\n    \"widget\": \"Slider\",\n    \"value\": 4,\n    \"min\": 0,\n    \"max\": 10,\n    \"step\": 1,\n    \"label\": \"My second slider 3\",\n    \"model_id\": \"16bbdd331851449fb9d1d515bbd3b47b\"\n}",
      "application/vnd.jupyter.widget-view+json": {
       "model_id": "16bbdd331851449fb9d1d515bbd3b47b",
       "version_major": 2,
       "version_minor": 0
      },
      "text/plain": [
       "mercury.Slider"
      ]
     },
     "metadata": {},
     "output_type": "display_data"
    }
   ],
   "source": [
    "m2 = mercury.Slider(value=4, label=f\"My second slider {m.value}\")\n"
   ]
  },
  {
   "cell_type": "code",
   "execution_count": 13,
   "id": "08b46893",
   "metadata": {},
   "outputs": [
    {
     "data": {
      "application/mercury+json": "{\n    \"widget\": \"Range\",\n    \"value\": [\n        2,\n        6\n    ],\n    \"min\": 0,\n    \"max\": 10,\n    \"step\": 1,\n    \"label\": \"My first range\",\n    \"model_id\": \"94903a5a503c49ca9c36177f7f12772a\"\n}",
      "application/vnd.jupyter.widget-view+json": {
       "model_id": "94903a5a503c49ca9c36177f7f12772a",
       "version_major": 2,
       "version_minor": 0
      },
      "text/plain": [
       "mercury.Range"
      ]
     },
     "metadata": {},
     "output_type": "display_data"
    }
   ],
   "source": [
    "r = mercury.Range([2,6], label=\"My first range\")"
   ]
  },
  {
   "cell_type": "code",
   "execution_count": 14,
   "id": "f54daa37",
   "metadata": {},
   "outputs": [
    {
     "data": {
      "image/png": "[encoded data removed]",
      "text/plain": [
       "<Figure size 640x480 with 1 Axes>"
      ]
     },
     "metadata": {},
     "output_type": "display_data"
    }
   ],
   "source": [
    "_=plt.plot([m.value,m2.value, r.value[0], r.value[1]])"
   ]
  },
  {
   "cell_type": "code",
   "execution_count": 15,
   "id": "1590a674",
   "metadata": {},
   "outputs": [],
   "source": [
    "from mercury import Select"
   ]
  },
  {
   "cell_type": "code",
   "execution_count": 16,
   "id": "c591cc8b",
   "metadata": {},
   "outputs": [],
   "source": [
    "d = {\"BIG\": [\"A\", \"B\", \"C\"], \"small\": [\"a\", \"b\", \"c\"]}"
   ]
  },
  {
   "cell_type": "code",
   "execution_count": 17,
   "id": "2c0d9dc4",
   "metadata": {},
   "outputs": [
    {
     "data": {
      "application/mercury+json": "{\n    \"widget\": \"Select\",\n    \"value\": \"BIG\",\n    \"choices\": [\n        \"small\",\n        \"BIG\"\n    ],\n    \"label\": \"\",\n    \"model_id\": \"c2bd9bf57b02423ca8fbd7bc4b2a701b\"\n}",
      "application/vnd.jupyter.widget-view+json": {
       "model_id": "c2bd9bf57b02423ca8fbd7bc4b2a701b",
       "version_major": 2,
       "version_minor": 0
      },
      "text/plain": [
       "mercury.Select"
      ]
     },
     "metadata": {},
     "output_type": "display_data"
    }
   ],
   "source": [
    "s1 = Select(value=\"BIG\", choices = [\"small\", \"BIG\"])"
   ]
  },
  {
   "cell_type": "code",
   "execution_count": 18,
   "id": "29987440",
   "metadata": {},
   "outputs": [
    {
     "data": {
      "application/mercury+json": "{\n    \"widget\": \"Select\",\n    \"value\": \"A\",\n    \"choices\": [\n        \"A\",\n        \"B\",\n        \"C\"\n    ],\n    \"label\": \"\",\n    \"model_id\": \"007f9156da8b4d139a3122435eac1222\"\n}",
      "application/vnd.jupyter.widget-view+json": {
       "model_id": "007f9156da8b4d139a3122435eac1222",
       "version_major": 2,
       "version_minor": 0
      },
      "text/plain": [
       "mercury.Select"
      ]
     },
     "metadata": {},
     "output_type": "display_data"
    }
   ],
   "source": [
    "s2 = Select(value=d[s1.value][0], choices=d[s1.value])"
   ]
  },
  {
   "cell_type": "code",
   "execution_count": 19,
   "id": "b1717628",
   "metadata": {},
   "outputs": [
    {
     "name": "stdout",
     "output_type": "stream",
     "text": [
      "Done!\n"
     ]
    }
   ],
   "source": [
    "print(\"Done!\")"
   ]
  },
  {
   "cell_type": "code",
   "execution_count": 20,
   "id": "990b1516",
   "metadata": {},
   "outputs": [
    {
     "data": {
      "application/mercury+json": "{\n    \"widget\": \"Text\",\n    \"value\": \"Hi Mercury!\",\n    \"rows\": 4,\n    \"label\": \"\",\n    \"model_id\": \"62bd2d5dd25b4c8abe4459d53d71ad22\"\n}",
      "application/vnd.jupyter.widget-view+json": {
       "model_id": "62bd2d5dd25b4c8abe4459d53d71ad22",
       "version_major": 2,
       "version_minor": 0
      },
      "text/plain": [
       "mercury.Text"
      ]
     },
     "metadata": {},
     "output_type": "display_data"
    }
   ],
   "source": [
    "t2 = mercury.Text(\"Hi Mercury!\", rows=4)"
   ]
  },
  {
   "cell_type": "code",
   "execution_count": 21,
   "id": "39c857ed",
   "metadata": {},
   "outputs": [
    {
     "data": {
      "application/mercury+json": "{\n    \"widget\": \"Numeric\",\n    \"value\": 0.5,\n    \"min\": 0.0,\n    \"max\": 10.0,\n    \"step\": 0.1,\n    \"label\": \"numeric\",\n    \"model_id\": \"76e34d9cdfb64310a9b86e6314c98efd\"\n}",
      "application/vnd.jupyter.widget-view+json": {
       "model_id": "76e34d9cdfb64310a9b86e6314c98efd",
       "version_major": 2,
       "version_minor": 0
      },
      "text/plain": [
       "mercury.Numeric"
      ]
     },
     "metadata": {},
     "output_type": "display_data"
    }
   ],
   "source": [
    "n = mercury.Numeric(label=\"numeric\", value=0.5, step=0.1)"
   ]
  },
  {
   "cell_type": "code",
   "execution_count": null,
   "id": "7023a698",
   "metadata": {},
   "outputs": [],
   "source": []
  }
 ],
 "metadata": {
  "kernelspec": {
   "display_name": "menv",
   "language": "python",
   "name": "menv"
  },
  "language_info": {
   "codemirror_mode": {
    "name": "ipython",
    "version": 3
   },
   "file_extension": ".py",
   "mimetype": "text/x-python",
   "name": "python",
   "nbconvert_exporter": "python",
   "pygments_lexer": "ipython3",
   "version": "3.8.10"
  }
 },
 "nbformat": 4,
 "nbformat_minor": 5
}
