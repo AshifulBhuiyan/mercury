{
 "cells": [
  {
   "cell_type": "markdown",
   "id": "f3ee12f2",
   "metadata": {},
   "source": [
    "# Mercury V2 demo 🚀"
   ]
  },
  {
   "cell_type": "code",
   "execution_count": 1,
   "id": "d607aad5",
   "metadata": {},
   "outputs": [],
   "source": [
    "import mercury"
   ]
  },
  {
   "cell_type": "code",
   "execution_count": 2,
   "id": "312a81a3",
   "metadata": {
    "scrolled": true
   },
   "outputs": [
    {
     "data": {
      "application/mercury+json": "{\n    \"widget\": \"App\",\n    \"title\": \"Mercury V2 demo \\ud83d\\ude80\",\n    \"description\": \"V2 demo\",\n    \"show_code\": false,\n    \"model_id\": \"mercury-app\"\n}",
      "text/plain": [
       "mercury.App(title=\"Mercury V2 demo 🚀\", description=\"V2 demo\", show_code=False)"
      ]
     },
     "metadata": {},
     "output_type": "display_data"
    }
   ],
   "source": [
    "app = mercury.App(title=\"Mercury V2 demo 🚀\", description=\"V2 demo\")"
   ]
  },
  {
   "cell_type": "code",
   "execution_count": 3,
   "id": "05817504",
   "metadata": {},
   "outputs": [],
   "source": [
    "import matplotlib.pyplot as plt"
   ]
  },
  {
   "cell_type": "code",
   "execution_count": 4,
   "id": "7dd22c82",
   "metadata": {},
   "outputs": [
    {
     "data": {
      "application/mercury+json": "{\n    \"widget\": \"Slider\",\n    \"value\": 3,\n    \"min\": 0,\n    \"max\": 6,\n    \"step\": 1,\n    \"label\": \"My first slider\",\n    \"model_id\": \"4c421e450180408aa106cede92291453\"\n}",
      "application/vnd.jupyter.widget-view+json": {
       "model_id": "4c421e450180408aa106cede92291453",
       "version_major": 2,
       "version_minor": 0
      },
      "text/plain": [
       "mercury.Slider"
      ]
     },
     "metadata": {},
     "output_type": "display_data"
    }
   ],
   "source": [
    "m = mercury.Slider(value=3, label=\"My first slider\", min_value=0, max_value=6)"
   ]
  },
  {
   "cell_type": "code",
   "execution_count": 5,
   "id": "3f4b4bdf",
   "metadata": {},
   "outputs": [
    {
     "data": {
      "text/plain": [
       "3"
      ]
     },
     "execution_count": 5,
     "metadata": {},
     "output_type": "execute_result"
    }
   ],
   "source": [
    "m.value"
   ]
  },
  {
   "cell_type": "code",
   "execution_count": 6,
   "id": "e55d269a",
   "metadata": {},
   "outputs": [
    {
     "data": {
      "application/mercury+json": "{\n    \"widget\": \"Slider\",\n    \"value\": 7,\n    \"min\": 0,\n    \"max\": 10,\n    \"step\": 1,\n    \"label\": \"My second slider 3\",\n    \"model_id\": \"99bfba4270d64d30b32919118c2a1eb3\"\n}",
      "application/vnd.jupyter.widget-view+json": {
       "model_id": "99bfba4270d64d30b32919118c2a1eb3",
       "version_major": 2,
       "version_minor": 0
      },
      "text/plain": [
       "mercury.Slider"
      ]
     },
     "metadata": {},
     "output_type": "display_data"
    },
    {
     "data": {
      "application/mercury+json": "{\n    \"widget\": \"Slider\",\n    \"value\": 0,\n    \"min\": 0,\n    \"max\": 10,\n    \"step\": 1,\n    \"label\": \"My third slider\",\n    \"model_id\": \"96e7fd78e1d74799b1b4ae1bd54b02d4\"\n}",
      "application/vnd.jupyter.widget-view+json": {
       "model_id": "96e7fd78e1d74799b1b4ae1bd54b02d4",
       "version_major": 2,
       "version_minor": 0
      },
      "text/plain": [
       "mercury.Slider"
      ]
     },
     "metadata": {},
     "output_type": "display_data"
    },
    {
     "data": {
      "application/mercury+json": "{\n    \"widget\": \"Slider\",\n    \"value\": 1,\n    \"min\": 0,\n    \"max\": 10,\n    \"step\": 1,\n    \"label\": \"My fourth slider\",\n    \"model_id\": \"2fc28ade21f24daca3967e050a575f76\"\n}",
      "application/vnd.jupyter.widget-view+json": {
       "model_id": "2fc28ade21f24daca3967e050a575f76",
       "version_major": 2,
       "version_minor": 0
      },
      "text/plain": [
       "mercury.Slider"
      ]
     },
     "metadata": {},
     "output_type": "display_data"
    }
   ],
   "source": [
    "m2 = mercury.Slider(value=4+m.value, label=f\"My second slider {m.value}\")\n",
    "m3 = mercury.Slider(value=0, label=\"My third slider\")\n",
    "m4 = mercury.Slider(value=1, label=\"My fourth slider\")"
   ]
  },
  {
   "cell_type": "code",
   "execution_count": 7,
   "id": "359b8dee",
   "metadata": {},
   "outputs": [
    {
     "data": {
      "text/plain": [
       "(7, 0, 1)"
      ]
     },
     "execution_count": 7,
     "metadata": {},
     "output_type": "execute_result"
    }
   ],
   "source": [
    "m2.value, m3.value, m4.value"
   ]
  },
  {
   "cell_type": "code",
   "execution_count": 8,
   "id": "a739dc1d",
   "metadata": {},
   "outputs": [
    {
     "data": {
      "application/mercury+json": "{\n    \"widget\": \"Slider\",\n    \"value\": 7,\n    \"min\": 0,\n    \"max\": 10,\n    \"step\": 1,\n    \"label\": \"My second slider 3\",\n    \"model_id\": \"99bfba4270d64d30b32919118c2a1eb3\"\n}",
      "application/vnd.jupyter.widget-view+json": {
       "model_id": "99bfba4270d64d30b32919118c2a1eb3",
       "version_major": 2,
       "version_minor": 0
      },
      "text/plain": [
       "mercury.Slider"
      ]
     },
     "execution_count": 8,
     "metadata": {},
     "output_type": "execute_result"
    }
   ],
   "source": [
    "m2"
   ]
  },
  {
   "cell_type": "code",
   "execution_count": 9,
   "id": "f54daa37",
   "metadata": {},
   "outputs": [
    {
     "data": {
      "image/png": "[encoded data removed]",
      "text/plain": [
       "<Figure size 640x480 with 1 Axes>"
      ]
     },
     "metadata": {},
     "output_type": "display_data"
    }
   ],
   "source": [
    "_=plt.plot([m.value,m2.value, m3.value, m4.value])"
   ]
  },
  {
   "cell_type": "code",
   "execution_count": 10,
   "id": "1590a674",
   "metadata": {},
   "outputs": [],
   "source": [
    "from mercury import Select"
   ]
  },
  {
   "cell_type": "code",
   "execution_count": 11,
   "id": "c591cc8b",
   "metadata": {},
   "outputs": [],
   "source": [
    "d = {\"BIG\": [\"A\", \"B\", \"C\"], \"small\": [\"a\", \"b\", \"c\"]}"
   ]
  },
  {
   "cell_type": "code",
   "execution_count": 12,
   "id": "2c0d9dc4",
   "metadata": {},
   "outputs": [
    {
     "data": {
      "application/mercury+json": "{\n    \"widget\": \"Select\",\n    \"value\": \"BIG\",\n    \"choices\": [\n        \"small\",\n        \"BIG\"\n    ],\n    \"label\": \"\",\n    \"model_id\": \"91382cd44b87417885ccfc1b47f0ba3c\"\n}",
      "application/vnd.jupyter.widget-view+json": {
       "model_id": "91382cd44b87417885ccfc1b47f0ba3c",
       "version_major": 2,
       "version_minor": 0
      },
      "text/plain": [
       "mercury.Select"
      ]
     },
     "metadata": {},
     "output_type": "display_data"
    }
   ],
   "source": [
    "s1 = Select(value=\"BIG\", choices = [\"small\", \"BIG\"])"
   ]
  },
  {
   "cell_type": "code",
   "execution_count": 13,
   "id": "29987440",
   "metadata": {},
   "outputs": [
    {
     "data": {
      "application/mercury+json": "{\n    \"widget\": \"Select\",\n    \"value\": \"A\",\n    \"choices\": [\n        \"A\",\n        \"B\",\n        \"C\"\n    ],\n    \"label\": \"\",\n    \"model_id\": \"77543e3534a94c318d1b3b378b78a94c\"\n}",
      "application/vnd.jupyter.widget-view+json": {
       "model_id": "77543e3534a94c318d1b3b378b78a94c",
       "version_major": 2,
       "version_minor": 0
      },
      "text/plain": [
       "mercury.Select"
      ]
     },
     "metadata": {},
     "output_type": "display_data"
    }
   ],
   "source": [
    "s2 = Select(value=d[s1.value][0], choices=d[s1.value])"
   ]
  },
  {
   "cell_type": "code",
   "execution_count": 15,
   "id": "336cf8fa",
   "metadata": {},
   "outputs": [
    {
     "data": {
      "text/markdown": [
       "## Selected BIG A"
      ],
      "text/plain": [
       "<IPython.core.display.Markdown object>"
      ]
     },
     "execution_count": 15,
     "metadata": {},
     "output_type": "execute_result"
    }
   ],
   "source": [
    "from IPython.display import Markdown as md\n",
    "md(f\"## Selected {s1.value} {s2.value}\")"
   ]
  },
  {
   "cell_type": "code",
   "execution_count": null,
   "id": "ab0f8fcb",
   "metadata": {},
   "outputs": [],
   "source": []
  },
  {
   "cell_type": "code",
   "execution_count": 25,
   "id": "c02c4111",
   "metadata": {},
   "outputs": [],
   "source": [
    "import ipywidgets"
   ]
  },
  {
   "cell_type": "code",
   "execution_count": 26,
   "id": "d35de182",
   "metadata": {},
   "outputs": [],
   "source": [
    "p = ipywidgets.FloatProgress(\n",
    "    value=0,\n",
    "    min=0,\n",
    "    max=10.0,\n",
    "    description='Loading:',\n",
    "    #bar_style='info',\n",
    "    #style={'bar_color': '#ffff00'},\n",
    "    #orientation='horizontal'\n",
    ")"
   ]
  },
  {
   "cell_type": "code",
   "execution_count": 27,
   "id": "94e44250",
   "metadata": {},
   "outputs": [
    {
     "data": {
      "application/vnd.jupyter.widget-view+json": {
       "model_id": "9585343d194c40578ce68d90923972b2",
       "version_major": 2,
       "version_minor": 0
      },
      "text/plain": [
       "FloatProgress(value=0.0, description='Loading:', max=10.0)"
      ]
     },
     "execution_count": 27,
     "metadata": {},
     "output_type": "execute_result"
    }
   ],
   "source": [
    "p"
   ]
  },
  {
   "cell_type": "code",
   "execution_count": 33,
   "id": "e4cee136",
   "metadata": {},
   "outputs": [],
   "source": [
    "import time\n",
    "for i in range(11):\n",
    "    p.value = i\n",
    "    time.sleep(0.1)"
   ]
  },
  {
   "cell_type": "code",
   "execution_count": null,
   "id": "9220059a",
   "metadata": {},
   "outputs": [],
   "source": []
  }
 ],
 "metadata": {
  "kernelspec": {
   "display_name": "menv",
   "language": "python",
   "name": "menv"
  },
  "language_info": {
   "codemirror_mode": {
    "name": "ipython",
    "version": 3
   },
   "file_extension": ".py",
   "mimetype": "text/x-python",
   "name": "python",
   "nbconvert_exporter": "python",
   "pygments_lexer": "ipython3",
   "version": "3.8.10"
  }
 },
 "nbformat": 4,
 "nbformat_minor": 5
}
