{
 "cells": [
  {
   "cell_type": "markdown",
   "id": "f3ee12f2",
   "metadata": {},
   "source": [
    "# Mercury V2 demo 🚀"
   ]
  },
  {
   "cell_type": "code",
   "execution_count": 1,
   "id": "d607aad5",
   "metadata": {},
   "outputs": [],
   "source": [
    "import mercury"
   ]
  },
  {
   "cell_type": "code",
   "execution_count": 2,
   "id": "312a81a3",
   "metadata": {
    "scrolled": true
   },
   "outputs": [
    {
     "data": {
      "application/mercury+json": "{\n    \"widget\": \"App\",\n    \"title\": \"Mercury V2 demo \\ud83d\\ude80\",\n    \"description\": \"V2 demo\",\n    \"show_code\": false,\n    \"model_id\": \"mercury-app\"\n}",
      "text/plain": [
       "mercury.App(title=\"Mercury V2 demo 🚀\", description=\"V2 demo\", show_code=False)"
      ]
     },
     "metadata": {},
     "output_type": "display_data"
    }
   ],
   "source": [
    "app = mercury.App(title=\"Mercury V2 demo 🚀\", description=\"V2 demo\")"
   ]
  },
  {
   "cell_type": "code",
   "execution_count": 3,
   "id": "05817504",
   "metadata": {},
   "outputs": [],
   "source": [
    "import matplotlib.pyplot as plt"
   ]
  },
  {
   "cell_type": "code",
   "execution_count": 4,
   "id": "7dd22c82",
   "metadata": {},
   "outputs": [
    {
     "data": {
      "application/mercury+json": "{\n    \"widget\": \"Slider\",\n    \"value\": 3,\n    \"min\": 0,\n    \"max\": 10,\n    \"step\": 1,\n    \"label\": \"My first slider\",\n    \"model_id\": \"77f44bfb5aa74378b6bcc680d8a0accc\"\n}",
      "application/vnd.jupyter.widget-view+json": {
       "model_id": "77f44bfb5aa74378b6bcc680d8a0accc",
       "version_major": 2,
       "version_minor": 0
      },
      "text/plain": [
       "mercury.Slider"
      ]
     },
     "metadata": {},
     "output_type": "display_data"
    }
   ],
   "source": [
    "m = mercury.Slider(value=3, label=\"My first slider\")"
   ]
  },
  {
   "cell_type": "code",
   "execution_count": 5,
   "id": "3f4b4bdf",
   "metadata": {},
   "outputs": [
    {
     "data": {
      "text/plain": [
       "3"
      ]
     },
     "execution_count": 5,
     "metadata": {},
     "output_type": "execute_result"
    }
   ],
   "source": [
    "m.value"
   ]
  },
  {
   "cell_type": "code",
   "execution_count": 6,
   "id": "e55d269a",
   "metadata": {},
   "outputs": [
    {
     "data": {
      "application/mercury+json": "{\n    \"widget\": \"Slider\",\n    \"value\": 4,\n    \"min\": 0,\n    \"max\": 10,\n    \"step\": 1,\n    \"label\": \"My second slider\",\n    \"model_id\": \"cbd2948c047f4206a6d702826930dc47\"\n}",
      "application/vnd.jupyter.widget-view+json": {
       "model_id": "cbd2948c047f4206a6d702826930dc47",
       "version_major": 2,
       "version_minor": 0
      },
      "text/plain": [
       "mercury.Slider"
      ]
     },
     "metadata": {},
     "output_type": "display_data"
    },
    {
     "data": {
      "application/mercury+json": "{\n    \"widget\": \"Slider\",\n    \"value\": 0,\n    \"min\": 0,\n    \"max\": 10,\n    \"step\": 1,\n    \"label\": \"My third slider\",\n    \"model_id\": \"1c2da43a38c14dc18ccb9a69bc1bfd90\"\n}",
      "application/vnd.jupyter.widget-view+json": {
       "model_id": "1c2da43a38c14dc18ccb9a69bc1bfd90",
       "version_major": 2,
       "version_minor": 0
      },
      "text/plain": [
       "mercury.Slider"
      ]
     },
     "metadata": {},
     "output_type": "display_data"
    },
    {
     "data": {
      "application/mercury+json": "{\n    \"widget\": \"Slider\",\n    \"value\": 1,\n    \"min\": 0,\n    \"max\": 10,\n    \"step\": 1,\n    \"label\": \"My fourth slider\",\n    \"model_id\": \"2e89e7809ef445edb4b1c1bb9225b8fa\"\n}",
      "application/vnd.jupyter.widget-view+json": {
       "model_id": "2e89e7809ef445edb4b1c1bb9225b8fa",
       "version_major": 2,
       "version_minor": 0
      },
      "text/plain": [
       "mercury.Slider"
      ]
     },
     "metadata": {},
     "output_type": "display_data"
    }
   ],
   "source": [
    "m2 = mercury.Slider(value=4, label=\"My second slider\")\n",
    "m3 = mercury.Slider(value=0, label=\"My third slider\")\n",
    "m4 = mercury.Slider(value=1, label=\"My fourth slider\")"
   ]
  },
  {
   "cell_type": "code",
   "execution_count": 7,
   "id": "359b8dee",
   "metadata": {},
   "outputs": [
    {
     "data": {
      "text/plain": [
       "(4, 0, 1)"
      ]
     },
     "execution_count": 7,
     "metadata": {},
     "output_type": "execute_result"
    }
   ],
   "source": [
    "m2.value, m3.value, m4.value"
   ]
  },
  {
   "cell_type": "code",
   "execution_count": 8,
   "id": "a739dc1d",
   "metadata": {},
   "outputs": [
    {
     "data": {
      "application/mercury+json": "{\n    \"widget\": \"Slider\",\n    \"value\": 4,\n    \"min\": 0,\n    \"max\": 10,\n    \"step\": 1,\n    \"label\": \"My second slider\",\n    \"model_id\": \"cbd2948c047f4206a6d702826930dc47\"\n}",
      "application/vnd.jupyter.widget-view+json": {
       "model_id": "cbd2948c047f4206a6d702826930dc47",
       "version_major": 2,
       "version_minor": 0
      },
      "text/plain": [
       "mercury.Slider"
      ]
     },
     "execution_count": 8,
     "metadata": {},
     "output_type": "execute_result"
    }
   ],
   "source": [
    "m2"
   ]
  },
  {
   "cell_type": "code",
   "execution_count": 9,
   "id": "f54daa37",
   "metadata": {},
   "outputs": [
    {
     "data": {
      "image/png": "[encoded data removed]",
      "text/plain": [
       "<Figure size 640x480 with 1 Axes>"
      ]
     },
     "metadata": {},
     "output_type": "display_data"
    }
   ],
   "source": [
    "_=plt.plot([m.value,m2.value, m3.value, m4.value])"
   ]
  },
  {
   "cell_type": "code",
   "execution_count": 10,
   "id": "1590a674",
   "metadata": {},
   "outputs": [],
   "source": [
    "from mercury import Select"
   ]
  },
  {
   "cell_type": "code",
   "execution_count": 11,
   "id": "c1465f6e",
   "metadata": {},
   "outputs": [],
   "source": [
    "d = {\"BIG\": [\"A\", \"B\", \"C\"], \"small\": [\"a\", \"b\", \"c\"]}"
   ]
  },
  {
   "cell_type": "code",
   "execution_count": 22,
   "id": "b637e30f",
   "metadata": {},
   "outputs": [
    {
     "name": "stdout",
     "output_type": "stream",
     "text": [
      "True\n",
      "True\n",
      "('small', 'BIG') ['small', 'BIG']\n"
     ]
    },
    {
     "data": {
      "application/mercury+json": "{\n    \"widget\": \"Select\",\n    \"value\": \"small\",\n    \"choices\": [\n        \"small\",\n        \"BIG\"\n    ],\n    \"label\": \"\",\n    \"model_id\": \"bbc6bce85f1b417ea091f89768ea938f\"\n}",
      "application/vnd.jupyter.widget-view+json": {
       "model_id": "bbc6bce85f1b417ea091f89768ea938f",
       "version_major": 2,
       "version_minor": 0
      },
      "text/plain": [
       "mercury.Select"
      ]
     },
     "metadata": {},
     "output_type": "display_data"
    }
   ],
   "source": [
    "s1 = Select(value=\"BIG\", choices = [\"small\", \"BIG\"])"
   ]
  },
  {
   "cell_type": "code",
   "execution_count": 13,
   "id": "ce7694ef",
   "metadata": {},
   "outputs": [
    {
     "name": "stdout",
     "output_type": "stream",
     "text": [
      "False\n"
     ]
    },
    {
     "data": {
      "application/mercury+json": "{\n    \"widget\": \"Select\",\n    \"value\": \"A\",\n    \"choices\": [\n        \"A\",\n        \"B\",\n        \"C\"\n    ],\n    \"label\": \"\",\n    \"model_id\": \"9ce4cc3ccc16470ab1eff6798b9347f6\"\n}",
      "application/vnd.jupyter.widget-view+json": {
       "model_id": "9ce4cc3ccc16470ab1eff6798b9347f6",
       "version_major": 2,
       "version_minor": 0
      },
      "text/plain": [
       "mercury.Select"
      ]
     },
     "metadata": {},
     "output_type": "display_data"
    }
   ],
   "source": [
    "s2 = Select(value=d[s1.value][0], choices=d[s1.value])"
   ]
  },
  {
   "cell_type": "code",
   "execution_count": 14,
   "id": "3d89fc94",
   "metadata": {},
   "outputs": [
    {
     "data": {
      "text/markdown": [
       "## Selected BIG A"
      ],
      "text/plain": [
       "<IPython.core.display.Markdown object>"
      ]
     },
     "execution_count": 14,
     "metadata": {},
     "output_type": "execute_result"
    }
   ],
   "source": [
    "from IPython.display import Markdown as md\n",
    "md(f\"## Selected {s1.value} {s2.value}\")"
   ]
  }
 ],
 "metadata": {
  "kernelspec": {
   "display_name": "menv",
   "language": "python",
   "name": "menv"
  },
  "language_info": {
   "codemirror_mode": {
    "name": "ipython",
    "version": 3
   },
   "file_extension": ".py",
   "mimetype": "text/x-python",
   "name": "python",
   "nbconvert_exporter": "python",
   "pygments_lexer": "ipython3",
   "version": "3.8.10"
  }
 },
 "nbformat": 4,
 "nbformat_minor": 5
}
